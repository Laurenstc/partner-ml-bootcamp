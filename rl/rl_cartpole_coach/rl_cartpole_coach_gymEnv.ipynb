{
 "cells": [
  {
   "cell_type": "markdown",
   "metadata": {},
   "source": [
    "# Cart-pole Balancing Model with Amazon SageMaker\n",
    "\n",
    "---\n",
    "## Introduction\n",
    "\n",
    "In this notebook we'll start from the cart-pole balancing problem, where a pole is attached by an un-actuated joint to a cart, moving along a frictionless track. Instead of applying control theory to solve the problem, this example shows how to solve the problem with reinforcement learning on Amazon SageMaker.\n",
    "\n",
    "1. *Objective*: Prevent the pole from falling over\n",
    "2. *Environment*: The environment used in this example is part of OpenAI Gym, corresponding to the version of the cart-pole problem described by Barto, Sutton, and Anderson [1]\n",
    "3. *State*: Cart position, cart velocity, pole angle, pole velocity at tip\t\n",
    "4. *Action*: Push cart to the left, push cart to the right\n",
    "5. *Reward*: Reward is 1 for every step taken, including the termination step\n",
    "\n",
    "References\n",
    "\n",
    "1. AG Barto, RS Sutton and CW Anderson, \"Neuronlike Adaptive Elements That Can Solve Difficult Learning Control Problem\", IEEE Transactions on Systems, Man, and Cybernetics, 1983."
   ]
  },
  {
   "cell_type": "markdown",
   "metadata": {},
   "source": [
    "## Pre-requisites \n",
    "\n",
    "### Imports\n",
    "\n",
    "To get started, we'll import the Python libraries we need, set up the environment with a few prerequisites for permissions and configurations."
   ]
  },
  {
   "cell_type": "code",
   "execution_count": 46,
   "metadata": {
    "scrolled": true
   },
   "outputs": [],
   "source": [
    "import sagemaker\n",
    "import boto3\n",
    "import sys\n",
    "import os\n",
    "import glob\n",
    "import re\n",
    "import numpy as np\n",
    "import subprocess\n",
    "from IPython.display import HTML\n",
    "import time\n",
    "from time import gmtime, strftime\n",
    "sys.path.append(\"common\")\n",
    "from misc import get_execution_role, wait_for_s3_object\n",
    "from sagemaker.rl import RLEstimator, RLToolkit, RLFramework"
   ]
  },
  {
   "cell_type": "markdown",
   "metadata": {},
   "source": [
    "### Setup S3 bucket\n",
    "\n",
    "Set up the linkage and authentication to the S3 bucket that you want to use for checkpoint and the metadata. "
   ]
  },
  {
   "cell_type": "code",
   "execution_count": 47,
   "metadata": {},
   "outputs": [
    {
     "name": "stdout",
     "output_type": "stream",
     "text": [
      "S3 bucket path: s3://sagemaker-us-east-1-912668378040/\n"
     ]
    }
   ],
   "source": [
    "sage_session = sagemaker.session.Session()\n",
    "s3_bucket = sage_session.default_bucket()  \n",
    "s3_output_path = 's3://{}/'.format(s3_bucket)\n",
    "print(\"S3 bucket path: {}\".format(s3_output_path))"
   ]
  },
  {
   "cell_type": "markdown",
   "metadata": {},
   "source": [
    "### Define Variables \n",
    "\n",
    "We define variables such as the job prefix for the training jobs *and the image path for the container (only when this is BYOC).*"
   ]
  },
  {
   "cell_type": "code",
   "execution_count": 48,
   "metadata": {},
   "outputs": [],
   "source": [
    "# create unique job name \n",
    "job_name_prefix = 'rl-cart-pole'"
   ]
  },
  {
   "cell_type": "markdown",
   "metadata": {},
   "source": [
    "### Configure where training happens\n",
    "\n",
    "You can run your RL training jobs on a SageMaker notebook instance or on your own machine. In both of these scenarios, you can run the following in either local or SageMaker modes. The local mode uses the SageMaker Python SDK to run your code in a local container before deploying to SageMaker. This can speed up iterative testing and debugging while using the same familiar Python SDK interface. You just need to set local_mode = True."
   ]
  },
  {
   "cell_type": "code",
   "execution_count": 49,
   "metadata": {},
   "outputs": [],
   "source": [
    "# Do you want to train your model in local mode?\n",
    "local_mode = False\n",
    "\n",
    "if local_mode:\n",
    "    instance_type = 'local'\n",
    "else:\n",
    "    instance_type = \"ml.m4.4xlarge\""
   ]
  },
  {
   "cell_type": "markdown",
   "metadata": {},
   "source": [
    "### Create an IAM role\n",
    "\n",
    "Either get the execution role when running from a SageMaker notebook instance `role = sagemaker.get_execution_role()` or, when running from local notebook instance, use utils method `role = get_execution_role()` to create an execution role."
   ]
  },
  {
   "cell_type": "code",
   "execution_count": 50,
   "metadata": {},
   "outputs": [
    {
     "name": "stdout",
     "output_type": "stream",
     "text": [
      "Using IAM role arn: arn:aws:iam::912668378040:role/service-role/AmazonSageMaker-ExecutionRole-20200602T222454\n"
     ]
    }
   ],
   "source": [
    "try:\n",
    "    role = sagemaker.get_execution_role()\n",
    "except:\n",
    "    role = get_execution_role()\n",
    "\n",
    "print(\"Using IAM role arn: {}\".format(role))"
   ]
  },
  {
   "cell_type": "markdown",
   "metadata": {},
   "source": [
    "### Install docker for `local` mode\n",
    "\n",
    "In order to work in `local` mode, you need to have docker installed. When running from you local machine, please make sure that you have docker or docker-compose (for local CPU machines) and nvidia-docker (for local GPU machines) installed. Alternatively, when running from a SageMaker notebook instance, you can simply run the following script to install dependenceis.\n",
    "\n",
    "Note, you can only run a single local notebook at one time."
   ]
  },
  {
   "cell_type": "code",
   "execution_count": 51,
   "metadata": {},
   "outputs": [],
   "source": [
    "# only run from SageMaker notebook instance\n",
    "if local_mode:\n",
    "    !/bin/bash ./common/setup.sh"
   ]
  },
  {
   "cell_type": "markdown",
   "metadata": {},
   "source": [
    "## Setup the environment\n",
    "\n",
    "- Cartpole environment used in this example is part of OpenAI Gym. \n",
    "- OpenAI Gym is already installed in the pre-built container images that SageMaker RL support.\n",
    "- Then, to be able to access to the environment we just need to use the OpenAI Gym Interface."
   ]
  },
  {
   "cell_type": "markdown",
   "metadata": {},
   "source": [
    "## Configure the presets for RL algorithm \n",
    "\n",
    "\n",
    "- <b> RL Toolkit selected:</b> Intel Coach\n",
    "\n",
    "- <b>Preset</b>: Set of predefined experiment parameters.\n",
    "\n",
    "- <b> RL Agent/Algorithm </b>: Deep Q-Network (DQN) \n",
    "\n",
    "\n",
    "The presets that configure the RL training jobs are defined in the “preset-cartpole-dqn.py” file which is also uploaded on the /src directory. Using the preset file, you can define agent parameters to select the specific agent algorithm. You can also set the environment parameters, define the schedule and visualization parameters, and define the graph manager. The schedule presets will define the number of heat up steps, periodic evaluation steps, training steps between evaluations.\n",
    "\n",
    "These can be overridden at runtime by specifying the RLCOACH_PRESET hyperparameter. Additionally, it can be used to define custom hyperparameters. "
   ]
  },
  {
   "cell_type": "code",
   "execution_count": 52,
   "metadata": {},
   "outputs": [
    {
     "name": "stdout",
     "output_type": "stream",
     "text": [
      "\u001b[34mfrom\u001b[39;49;00m \u001b[04m\u001b[36mrl_coach.agents.dqn_agent\u001b[39;49;00m \u001b[34mimport\u001b[39;49;00m DQNAgentParameters\n",
      "\u001b[34mfrom\u001b[39;49;00m \u001b[04m\u001b[36mrl_coach.base_parameters\u001b[39;49;00m \u001b[34mimport\u001b[39;49;00m VisualizationParameters, PresetValidationParameters, DistributedCoachSynchronizationType\n",
      "\u001b[34mfrom\u001b[39;49;00m \u001b[04m\u001b[36mrl_coach.core_types\u001b[39;49;00m \u001b[34mimport\u001b[39;49;00m TrainingSteps, EnvironmentEpisodes, EnvironmentSteps\n",
      "\u001b[34mfrom\u001b[39;49;00m \u001b[04m\u001b[36mrl_coach.environments.gym_environment\u001b[39;49;00m \u001b[34mimport\u001b[39;49;00m GymVectorEnvironment\n",
      "\u001b[34mfrom\u001b[39;49;00m \u001b[04m\u001b[36mrl_coach.graph_managers.basic_rl_graph_manager\u001b[39;49;00m \u001b[34mimport\u001b[39;49;00m BasicRLGraphManager\n",
      "\u001b[34mfrom\u001b[39;49;00m \u001b[04m\u001b[36mrl_coach.graph_managers.graph_manager\u001b[39;49;00m \u001b[34mimport\u001b[39;49;00m ScheduleParameters\n",
      "\u001b[34mfrom\u001b[39;49;00m \u001b[04m\u001b[36mrl_coach.memories.memory\u001b[39;49;00m \u001b[34mimport\u001b[39;49;00m MemoryGranularity\n",
      "\u001b[34mfrom\u001b[39;49;00m \u001b[04m\u001b[36mrl_coach.schedules\u001b[39;49;00m \u001b[34mimport\u001b[39;49;00m LinearSchedule\n",
      "\n",
      "\u001b[37m####################\u001b[39;49;00m\n",
      "\u001b[37m# Graph Scheduling #\u001b[39;49;00m\n",
      "\u001b[37m####################\u001b[39;49;00m\n",
      "\n",
      "schedule_params = ScheduleParameters()\n",
      "schedule_params.improve_steps = TrainingSteps(\u001b[34m10000000000\u001b[39;49;00m)\n",
      "schedule_params.steps_between_evaluation_periods = EnvironmentEpisodes(\u001b[34m10\u001b[39;49;00m)\n",
      "schedule_params.evaluation_steps = EnvironmentEpisodes(\u001b[34m1\u001b[39;49;00m)\n",
      "schedule_params.heatup_steps = EnvironmentSteps(\u001b[34m1000\u001b[39;49;00m)\n",
      "\n",
      "\u001b[37m#########\u001b[39;49;00m\n",
      "\u001b[37m# Agent #\u001b[39;49;00m\n",
      "\u001b[37m#########\u001b[39;49;00m\n",
      "agent_params = DQNAgentParameters()\n",
      "\n",
      "\u001b[37m# DQN params\u001b[39;49;00m\n",
      "agent_params.algorithm.num_steps_between_copying_online_weights_to_target = EnvironmentSteps(\u001b[34m100\u001b[39;49;00m)\n",
      "agent_params.algorithm.discount = \u001b[34m0.99\u001b[39;49;00m\n",
      "agent_params.algorithm.num_consecutive_playing_steps = EnvironmentSteps(\u001b[34m1\u001b[39;49;00m)\n",
      "\n",
      "\u001b[37m# NN configuration\u001b[39;49;00m\n",
      "agent_params.network_wrappers[\u001b[33m'\u001b[39;49;00m\u001b[33mmain\u001b[39;49;00m\u001b[33m'\u001b[39;49;00m].learning_rate = \u001b[34m0.00025\u001b[39;49;00m\n",
      "agent_params.network_wrappers[\u001b[33m'\u001b[39;49;00m\u001b[33mmain\u001b[39;49;00m\u001b[33m'\u001b[39;49;00m].replace_mse_with_huber_loss = \u001b[36mFalse\u001b[39;49;00m\n",
      "\n",
      "\u001b[37m# ER size\u001b[39;49;00m\n",
      "agent_params.memory.max_size = (MemoryGranularity.Transitions, \u001b[34m40000\u001b[39;49;00m)\n",
      "\n",
      "\u001b[37m# E-Greedy schedule\u001b[39;49;00m\n",
      "agent_params.exploration.epsilon_schedule = LinearSchedule(\u001b[34m1.0\u001b[39;49;00m, \u001b[34m0.01\u001b[39;49;00m, \u001b[34m10000\u001b[39;49;00m)\n",
      "\n",
      "\u001b[37m################\u001b[39;49;00m\n",
      "\u001b[37m#  Environment #\u001b[39;49;00m\n",
      "\u001b[37m################\u001b[39;49;00m\n",
      "env_params = GymVectorEnvironment(level=\u001b[33m'\u001b[39;49;00m\u001b[33mCartPole-v0\u001b[39;49;00m\u001b[33m'\u001b[39;49;00m)\n",
      "\n",
      "\u001b[37m#################\u001b[39;49;00m\n",
      "\u001b[37m# Visualization #\u001b[39;49;00m\n",
      "\u001b[37m#################\u001b[39;49;00m\n",
      "\n",
      "vis_params = VisualizationParameters()\n",
      "vis_params.dump_gifs = \u001b[36mTrue\u001b[39;49;00m\n",
      "\n",
      "\u001b[37m########\u001b[39;49;00m\n",
      "\u001b[37m# Test #\u001b[39;49;00m\n",
      "\u001b[37m########\u001b[39;49;00m\n",
      "preset_validation_params = PresetValidationParameters()\n",
      "preset_validation_params.test = \u001b[36mTrue\u001b[39;49;00m\n",
      "preset_validation_params.min_reward_threshold = \u001b[34m150\u001b[39;49;00m\n",
      "preset_validation_params.max_episodes_to_achieve_reward = \u001b[34m250\u001b[39;49;00m\n",
      "\n",
      "graph_manager = BasicRLGraphManager(agent_params=agent_params, env_params=env_params,\n",
      "                                    schedule_params=schedule_params, vis_params=vis_params,\n",
      "                                    preset_validation_params=preset_validation_params)\n"
     ]
    }
   ],
   "source": [
    "!pygmentize src/preset-cartpole-dqn.py"
   ]
  },
  {
   "cell_type": "markdown",
   "metadata": {},
   "source": [
    "## Write the Training Code \n",
    "\n",
    "The training code is written in the file “train-coach.py” which is uploaded in the /src directory. \n",
    "First import the environment files and the preset files, and then define the main() function. "
   ]
  },
  {
   "cell_type": "code",
   "execution_count": 53,
   "metadata": {},
   "outputs": [
    {
     "name": "stdout",
     "output_type": "stream",
     "text": [
      "\u001b[34mfrom\u001b[39;49;00m \u001b[04m\u001b[36msagemaker_rl.coach_launcher\u001b[39;49;00m \u001b[34mimport\u001b[39;49;00m SageMakerCoachPresetLauncher\n",
      "\n",
      "\u001b[34mclass\u001b[39;49;00m \u001b[04m\u001b[32mMyLauncher\u001b[39;49;00m(SageMakerCoachPresetLauncher):\n",
      "\n",
      "    \u001b[34mdef\u001b[39;49;00m \u001b[32mdefault_preset_name\u001b[39;49;00m(\u001b[36mself\u001b[39;49;00m):\n",
      "        \u001b[33m\"\"\"This points to a .py file that configures everything about the RL job.\u001b[39;49;00m\n",
      "\u001b[33m        It can be overridden at runtime by specifying the RLCOACH_PRESET hyperparameter.\u001b[39;49;00m\n",
      "\u001b[33m        \"\"\"\u001b[39;49;00m\n",
      "        \u001b[34mreturn\u001b[39;49;00m \u001b[33m'\u001b[39;49;00m\u001b[33mpreset-cartpole-dqn\u001b[39;49;00m\u001b[33m'\u001b[39;49;00m\n",
      "\n",
      "    \u001b[34mdef\u001b[39;49;00m \u001b[32mmap_hyperparameter\u001b[39;49;00m(\u001b[36mself\u001b[39;49;00m, name, value):\n",
      "        \u001b[33m\"\"\"Here we configure some shortcut names for hyperparameters that we expect to use frequently.\u001b[39;49;00m\n",
      "\u001b[33m        Essentially anything in the preset file can be overridden through a hyperparameter with a name\u001b[39;49;00m\n",
      "\u001b[33m        like \"rl.agent_params.algorithm.etc\".\u001b[39;49;00m\n",
      "\u001b[33m        \"\"\"\u001b[39;49;00m\n",
      "        \u001b[37m# maps from alias (key) to fully qualified coach parameter (value)\u001b[39;49;00m\n",
      "        mapping = {\n",
      "                      \u001b[33m\"\u001b[39;49;00m\u001b[33mdiscount\u001b[39;49;00m\u001b[33m\"\u001b[39;49;00m: \u001b[33m\"\u001b[39;49;00m\u001b[33mrl.agent_params.algorithm.discount\u001b[39;49;00m\u001b[33m\"\u001b[39;49;00m,\n",
      "                      \u001b[33m\"\u001b[39;49;00m\u001b[33mevaluation_episodes\u001b[39;49;00m\u001b[33m\"\u001b[39;49;00m: \u001b[33m\"\u001b[39;49;00m\u001b[33mrl.evaluation_steps:EnvironmentEpisodes\u001b[39;49;00m\u001b[33m\"\u001b[39;49;00m,\n",
      "                      \u001b[33m\"\u001b[39;49;00m\u001b[33mimprove_steps\u001b[39;49;00m\u001b[33m\"\u001b[39;49;00m: \u001b[33m\"\u001b[39;49;00m\u001b[33mrl.improve_steps:TrainingSteps\u001b[39;49;00m\u001b[33m\"\u001b[39;49;00m\n",
      "                  }\n",
      "        \u001b[34mif\u001b[39;49;00m name \u001b[35min\u001b[39;49;00m mapping:\n",
      "            \u001b[36mself\u001b[39;49;00m.apply_hyperparameter(mapping[name], value)\n",
      "        \u001b[34melse\u001b[39;49;00m:\n",
      "            \u001b[36msuper\u001b[39;49;00m().map_hyperparameter(name, value)\n",
      "    \n",
      "    \n",
      "\u001b[34mif\u001b[39;49;00m \u001b[31m__name__\u001b[39;49;00m == \u001b[33m'\u001b[39;49;00m\u001b[33m__main__\u001b[39;49;00m\u001b[33m'\u001b[39;49;00m:\n",
      "    MyLauncher.train_main()\n"
     ]
    }
   ],
   "source": [
    "!pygmentize src/train-coach.py"
   ]
  },
  {
   "cell_type": "markdown",
   "metadata": {},
   "source": [
    "## Train the RL model using the Python SDK Script mode\n",
    "\n",
    "If you are using local mode, the training will run on the notebook instance. When using SageMaker for training, you can select a GPU or CPU instance. The RLEstimator is used for training RL jobs. \n",
    "\n",
    "1. Specify the source directory where the environment, presets and training code is uploaded.\n",
    "2. Specify the entry point as the training code \n",
    "3. Specify the choice of RL toolkit and framework. This automatically resolves to the ECR path for the RL Container. \n",
    "4. Define the training parameters such as the instance count, job name, S3 path for output and job name. \n",
    "5. Specify the hyperparameters for the RL agent algorithm. The RLCOACH_PRESET can be used to specify the RL agent algorithm you want to use. \n",
    "6. Define the metrics definitions that you are interested in capturing in your logs. These can also be visualized in CloudWatch and SageMaker Notebooks. "
   ]
  },
  {
   "cell_type": "code",
   "execution_count": 54,
   "metadata": {},
   "outputs": [
    {
     "name": "stdout",
     "output_type": "stream",
     "text": [
      "2020-06-29 22:03:16 Starting - Starting the training job...\n",
      "2020-06-29 22:03:20 Starting - Launching requested ML instances.........\n",
      "2020-06-29 22:05:07 Starting - Preparing the instances for training......\n",
      "2020-06-29 22:06:16 Downloading - Downloading input data\n",
      "2020-06-29 22:06:16 Training - Downloading the training image...\n",
      "2020-06-29 22:06:36 Training - Training image download completed. Training in progress.\u001b[34mbash: cannot set terminal process group (-1): Inappropriate ioctl for device\u001b[0m\n",
      "\u001b[34mbash: no job control in this shell\u001b[0m\n",
      "\u001b[34m2020-06-29 22:06:37,885 sagemaker-containers INFO     Imported framework sagemaker_mxnet_container.training\u001b[0m\n",
      "\u001b[34m2020-06-29 22:06:37,888 sagemaker-containers INFO     No GPUs detected (normal if no gpus installed)\u001b[0m\n",
      "\u001b[34m2020-06-29 22:06:37,903 sagemaker_mxnet_container.training INFO     MXNet training environment: {'SM_INPUT_CONFIG_DIR': '/opt/ml/input/config', 'SM_USER_ARGS': '[\"--RLCOACH_PRESET\",\"preset-cartpole-dqn\",\"--improve_steps\",\"9000\",\"--rl.agent_params.algorithm.discount\",\"0.99\",\"--rl.evaluation_steps:EnvironmentEpisodes\",\"1\",\"--save_model\",\"1\"]', 'SM_NUM_CPUS': '16', 'SM_HP_RL.AGENT_PARAMS.ALGORITHM.DISCOUNT': '0.99', 'SM_HOSTS': '[\"algo-1\"]', 'SM_HPS': '{\"RLCOACH_PRESET\":\"preset-cartpole-dqn\",\"improve_steps\":9000,\"rl.agent_params.algorithm.discount\":0.99,\"rl.evaluation_steps:EnvironmentEpisodes\":1,\"save_model\":1}', 'SM_CHANNELS': '[]', 'SM_RESOURCE_CONFIG': '{\"current_host\":\"algo-1\",\"hosts\":[\"algo-1\"],\"network_interface_name\":\"eth0\"}', 'SM_OUTPUT_DIR': '/opt/ml/output', 'SM_FRAMEWORK_PARAMS': '{\"sagemaker_estimator\":\"RLEstimator\"}', 'SM_INPUT_DIR': '/opt/ml/input', 'SM_OUTPUT_INTERMEDIATE_DIR': '/opt/ml/output/intermediate', 'SM_CURRENT_HOST': 'algo-1', 'SM_HP_RLCOACH_PRESET': 'preset-cartpole-dqn', 'SM_MODULE_DIR': 's3://sagemaker-us-east-1-912668378040/rl-cart-pole-2020-06-29-22-03-16-475/source/sourcedir.tar.gz', 'SM_FRAMEWORK_MODULE': 'sagemaker_mxnet_container.training:main', 'SM_HP_IMPROVE_STEPS': '9000', 'SM_TRAINING_ENV': '{\"additional_framework_parameters\":{\"sagemaker_estimator\":\"RLEstimator\"},\"channel_input_dirs\":{},\"current_host\":\"algo-1\",\"framework_module\":\"sagemaker_mxnet_container.training:main\",\"hosts\":[\"algo-1\"],\"hyperparameters\":{\"RLCOACH_PRESET\":\"preset-cartpole-dqn\",\"improve_steps\":9000,\"rl.agent_params.algorithm.discount\":0.99,\"rl.evaluation_steps:EnvironmentEpisodes\":1,\"save_model\":1},\"input_config_dir\":\"/opt/ml/input/config\",\"input_data_config\":{},\"input_dir\":\"/opt/ml/input\",\"job_name\":\"rl-cart-pole-2020-06-29-22-03-16-475\",\"log_level\":20,\"model_dir\":\"/opt/ml/model\",\"module_dir\":\"s3://sagemaker-us-east-1-912668378040/rl-cart-pole-2020-06-29-22-03-16-475/source/sourcedir.tar.gz\",\"module_name\":\"train-coach\",\"network_interface_name\":\"eth0\",\"num_cpus\":16,\"num_gpus\":0,\"output_data_dir\":\"/opt/ml/output/data\",\"output_dir\":\"/opt/ml/output\",\"output_intermediate_dir\":\"/opt/ml/output/intermediate\",\"resource_config\":{\"current_host\":\"algo-1\",\"hosts\":[\"algo-1\"],\"network_interface_name\":\"eth0\"},\"user_entry_point\":\"train-coach.py\"}', 'SM_LOG_LEVEL': '20', 'SM_HP_RL.EVALUATION_STEPS:ENVIRONMENTEPISODES': '1', 'SM_USER_ENTRY_POINT': 'train-coach.py', 'SM_NUM_GPUS': '0', 'SM_MODEL_DIR': '/opt/ml/model', 'SM_INPUT_DATA_CONFIG': '{}', 'SM_NETWORK_INTERFACE_NAME': 'eth0', 'SM_MODULE_NAME': 'train-coach', 'SM_HP_SAVE_MODEL': '1', 'SM_OUTPUT_DATA_DIR': '/opt/ml/output/data'}\u001b[0m\n",
      "\u001b[34m2020-06-29 22:06:38,113 sagemaker-containers INFO     Module train-coach does not provide a setup.py. \u001b[0m\n",
      "\u001b[34mGenerating setup.py\u001b[0m\n",
      "\u001b[34m2020-06-29 22:06:38,114 sagemaker-containers INFO     Generating setup.cfg\u001b[0m\n",
      "\u001b[34m2020-06-29 22:06:38,114 sagemaker-containers INFO     Generating MANIFEST.in\u001b[0m\n",
      "\u001b[34m2020-06-29 22:06:38,114 sagemaker-containers INFO     Installing module with the following command:\u001b[0m\n",
      "\u001b[34m/usr/bin/python -m pip install -U . \u001b[0m\n",
      "\u001b[34mProcessing /opt/ml/code\u001b[0m\n",
      "\u001b[34mBuilding wheels for collected packages: train-coach\n",
      "  Running setup.py bdist_wheel for train-coach: started\u001b[0m\n",
      "\u001b[34m  Running setup.py bdist_wheel for train-coach: finished with status 'done'\n",
      "  Stored in directory: /tmp/pip-ephem-wheel-cache-3bexvw88/wheels/35/24/16/37574d11bf9bde50616c67372a334f94fa8356bc7164af8ca3\u001b[0m\n",
      "\u001b[34mSuccessfully built train-coach\u001b[0m\n",
      "\u001b[34mInstalling collected packages: train-coach\u001b[0m\n",
      "\u001b[34mSuccessfully installed train-coach-1.0.0\u001b[0m\n",
      "\u001b[34mYou are using pip version 18.1, however version 20.2b1 is available.\u001b[0m\n",
      "\u001b[34mYou should consider upgrading via the 'pip install --upgrade pip' command.\u001b[0m\n",
      "\u001b[34m2020-06-29 22:06:39,980 sagemaker-containers INFO     No GPUs detected (normal if no gpus installed)\u001b[0m\n",
      "\u001b[34m2020-06-29 22:06:39,994 sagemaker-containers INFO     Invoking user script\n",
      "\u001b[0m\n",
      "\u001b[34mTraining Env:\n",
      "\u001b[0m\n",
      "\u001b[34m{\n",
      "    \"resource_config\": {\n",
      "        \"current_host\": \"algo-1\",\n",
      "        \"hosts\": [\n",
      "            \"algo-1\"\n",
      "        ],\n",
      "        \"network_interface_name\": \"eth0\"\n",
      "    },\n",
      "    \"hosts\": [\n",
      "        \"algo-1\"\n",
      "    ],\n",
      "    \"log_level\": 20,\n",
      "    \"output_intermediate_dir\": \"/opt/ml/output/intermediate\",\n",
      "    \"input_config_dir\": \"/opt/ml/input/config\",\n",
      "    \"module_dir\": \"s3://sagemaker-us-east-1-912668378040/rl-cart-pole-2020-06-29-22-03-16-475/source/sourcedir.tar.gz\",\n",
      "    \"num_gpus\": 0,\n",
      "    \"input_data_config\": {},\n",
      "    \"additional_framework_parameters\": {\n",
      "        \"sagemaker_estimator\": \"RLEstimator\"\n",
      "    },\n",
      "    \"user_entry_point\": \"train-coach.py\",\n",
      "    \"framework_module\": \"sagemaker_mxnet_container.training:main\",\n",
      "    \"network_interface_name\": \"eth0\",\n",
      "    \"model_dir\": \"/opt/ml/model\",\n",
      "    \"output_data_dir\": \"/opt/ml/output/data\",\n",
      "    \"num_cpus\": 16,\n",
      "    \"hyperparameters\": {\n",
      "        \"RLCOACH_PRESET\": \"preset-cartpole-dqn\",\n",
      "        \"rl.agent_params.algorithm.discount\": 0.99,\n",
      "        \"improve_steps\": 9000,\n",
      "        \"rl.evaluation_steps:EnvironmentEpisodes\": 1,\n",
      "        \"save_model\": 1\n",
      "    },\n",
      "    \"module_name\": \"train-coach\",\n",
      "    \"job_name\": \"rl-cart-pole-2020-06-29-22-03-16-475\",\n",
      "    \"input_dir\": \"/opt/ml/input\",\n",
      "    \"channel_input_dirs\": {},\n",
      "    \"current_host\": \"algo-1\",\n",
      "    \"output_dir\": \"/opt/ml/output\"\u001b[0m\n",
      "\u001b[34m}\n",
      "\u001b[0m\n",
      "\u001b[34mEnvironment variables:\n",
      "\u001b[0m\n",
      "\u001b[34mSM_INPUT_CONFIG_DIR=/opt/ml/input/config\u001b[0m\n",
      "\u001b[34mSM_HOSTS=[\"algo-1\"]\u001b[0m\n",
      "\u001b[34mPYTHONPATH=/usr/local/bin:/usr/lib/python35.zip:/usr/lib/python3.5:/usr/lib/python3.5/plat-x86_64-linux-gnu:/usr/lib/python3.5/lib-dynload:/usr/local/lib/python3.5/dist-packages:/usr/lib/python3/dist-packages\u001b[0m\n",
      "\u001b[34mSM_NUM_CPUS=16\u001b[0m\n",
      "\u001b[34mSM_HP_RL.AGENT_PARAMS.ALGORITHM.DISCOUNT=0.99\u001b[0m\n",
      "\u001b[34mSM_USER_ARGS=[\"--RLCOACH_PRESET\",\"preset-cartpole-dqn\",\"--improve_steps\",\"9000\",\"--rl.agent_params.algorithm.discount\",\"0.99\",\"--rl.evaluation_steps:EnvironmentEpisodes\",\"1\",\"--save_model\",\"1\"]\u001b[0m\n",
      "\u001b[34mSM_HPS={\"RLCOACH_PRESET\":\"preset-cartpole-dqn\",\"improve_steps\":9000,\"rl.agent_params.algorithm.discount\":0.99,\"rl.evaluation_steps:EnvironmentEpisodes\":1,\"save_model\":1}\u001b[0m\n",
      "\u001b[34mSM_FRAMEWORK_MODULE=sagemaker_mxnet_container.training:main\u001b[0m\n",
      "\u001b[34mSM_RESOURCE_CONFIG={\"current_host\":\"algo-1\",\"hosts\":[\"algo-1\"],\"network_interface_name\":\"eth0\"}\u001b[0m\n",
      "\u001b[34mSM_OUTPUT_DIR=/opt/ml/output\u001b[0m\n",
      "\u001b[34mSM_FRAMEWORK_PARAMS={\"sagemaker_estimator\":\"RLEstimator\"}\u001b[0m\n",
      "\u001b[34mSM_INPUT_DIR=/opt/ml/input\u001b[0m\n",
      "\u001b[34mSM_OUTPUT_INTERMEDIATE_DIR=/opt/ml/output/intermediate\u001b[0m\n",
      "\u001b[34mSM_CURRENT_HOST=algo-1\u001b[0m\n",
      "\u001b[34mSM_HP_RLCOACH_PRESET=preset-cartpole-dqn\u001b[0m\n",
      "\u001b[34mSM_MODULE_DIR=s3://sagemaker-us-east-1-912668378040/rl-cart-pole-2020-06-29-22-03-16-475/source/sourcedir.tar.gz\u001b[0m\n",
      "\u001b[34mSM_CHANNELS=[]\u001b[0m\n",
      "\u001b[34mSM_HP_IMPROVE_STEPS=9000\u001b[0m\n",
      "\u001b[34mSM_TRAINING_ENV={\"additional_framework_parameters\":{\"sagemaker_estimator\":\"RLEstimator\"},\"channel_input_dirs\":{},\"current_host\":\"algo-1\",\"framework_module\":\"sagemaker_mxnet_container.training:main\",\"hosts\":[\"algo-1\"],\"hyperparameters\":{\"RLCOACH_PRESET\":\"preset-cartpole-dqn\",\"improve_steps\":9000,\"rl.agent_params.algorithm.discount\":0.99,\"rl.evaluation_steps:EnvironmentEpisodes\":1,\"save_model\":1},\"input_config_dir\":\"/opt/ml/input/config\",\"input_data_config\":{},\"input_dir\":\"/opt/ml/input\",\"job_name\":\"rl-cart-pole-2020-06-29-22-03-16-475\",\"log_level\":20,\"model_dir\":\"/opt/ml/model\",\"module_dir\":\"s3://sagemaker-us-east-1-912668378040/rl-cart-pole-2020-06-29-22-03-16-475/source/sourcedir.tar.gz\",\"module_name\":\"train-coach\",\"network_interface_name\":\"eth0\",\"num_cpus\":16,\"num_gpus\":0,\"output_data_dir\":\"/opt/ml/output/data\",\"output_dir\":\"/opt/ml/output\",\"output_intermediate_dir\":\"/opt/ml/output/intermediate\",\"resource_config\":{\"current_host\":\"algo-1\",\"hosts\":[\"algo-1\"],\"network_interface_name\":\"eth0\"},\"user_entry_point\":\"train-coach.py\"}\u001b[0m\n",
      "\u001b[34mSM_LOG_LEVEL=20\u001b[0m\n",
      "\u001b[34mSM_HP_RL.EVALUATION_STEPS:ENVIRONMENTEPISODES=1\u001b[0m\n",
      "\u001b[34mSM_USER_ENTRY_POINT=train-coach.py\u001b[0m\n",
      "\u001b[34mSM_NUM_GPUS=0\u001b[0m\n",
      "\u001b[34mSM_MODEL_DIR=/opt/ml/model\u001b[0m\n",
      "\u001b[34mSM_INPUT_DATA_CONFIG={}\u001b[0m\n",
      "\u001b[34mSM_NETWORK_INTERFACE_NAME=eth0\u001b[0m\n",
      "\u001b[34mSM_MODULE_NAME=train-coach\u001b[0m\n",
      "\u001b[34mSM_HP_SAVE_MODEL=1\u001b[0m\n",
      "\u001b[34mSM_OUTPUT_DATA_DIR=/opt/ml/output/data\n",
      "\u001b[0m\n",
      "\u001b[34mInvoking script with the following command:\n",
      "\u001b[0m\n",
      "\u001b[34m/usr/bin/python -m train-coach --RLCOACH_PRESET preset-cartpole-dqn --improve_steps 9000 --rl.agent_params.algorithm.discount 0.99 --rl.evaluation_steps:EnvironmentEpisodes 1 --save_model 1\n",
      "\n",
      "\u001b[0m\n",
      "\u001b[34m#033[93mWarning: failed to import the following packages - tensorflow#033[0m\u001b[0m\n",
      "\u001b[34mApplying RL hyperparameter rl.improve_steps:TrainingSteps=9000\u001b[0m\n",
      "\u001b[34mApplying RL hyperparameter rl.agent_params.algorithm.discount=0.99\u001b[0m\n",
      "\u001b[34mApplying RL hyperparameter rl.evaluation_steps:EnvironmentEpisodes=1\u001b[0m\n",
      "\u001b[34mLoading preset preset-cartpole-dqn from /opt/ml/code\u001b[0m\n",
      "\u001b[34m## Creating graph - name: BasicRLGraphManager\u001b[0m\n",
      "\u001b[34m/usr/local/lib/python3.5/dist-packages/gym/envs/registration.py:14: PkgResourcesDeprecationWarning: Parameters to load are deprecated.  Call .resolve and .require separately.\n",
      "  result = entry_point.load(False)\u001b[0m\n",
      "\u001b[34m## Creating agent - name: agent\u001b[0m\n",
      "\u001b[34mRequested devices [gpu(0)] not available. Default to CPU context.\u001b[0m\n",
      "\u001b[34mRequested devices [gpu(0)] not available. Default to CPU context.\u001b[0m\n",
      "\u001b[34m## simple_rl_graph: Starting heatup\u001b[0m\n",
      "\u001b[34mHeatup> Name=main_level/agent, Worker=0, Episode=1, Total reward=21.0, Exploration=1.0, Steps=21, Training iteration=0\u001b[0m\n",
      "\u001b[34mHeatup> Name=main_level/agent, Worker=0, Episode=2, Total reward=21.0, Exploration=1.0, Steps=42, Training iteration=0\u001b[0m\n",
      "\u001b[34mHeatup> Name=main_level/agent, Worker=0, Episode=3, Total reward=17.0, Exploration=1.0, Steps=59, Training iteration=0\u001b[0m\n",
      "\u001b[34mHeatup> Name=main_level/agent, Worker=0, Episode=4, Total reward=16.0, Exploration=1.0, Steps=75, Training iteration=0\u001b[0m\n",
      "\u001b[34mHeatup> Name=main_level/agent, Worker=0, Episode=5, Total reward=11.0, Exploration=1.0, Steps=86, Training iteration=0\u001b[0m\n",
      "\u001b[34mHeatup> Name=main_level/agent, Worker=0, Episode=6, Total reward=11.0, Exploration=1.0, Steps=97, Training iteration=0\u001b[0m\n",
      "\u001b[34mHeatup> Name=main_level/agent, Worker=0, Episode=7, Total reward=34.0, Exploration=1.0, Steps=131, Training iteration=0\u001b[0m\n",
      "\u001b[34mHeatup> Name=main_level/agent, Worker=0, Episode=8, Total reward=19.0, Exploration=1.0, Steps=150, Training iteration=0\u001b[0m\n",
      "\u001b[34mHeatup> Name=main_level/agent, Worker=0, Episode=9, Total reward=12.0, Exploration=1.0, Steps=162, Training iteration=0\u001b[0m\n",
      "\u001b[34mHeatup> Name=main_level/agent, Worker=0, Episode=10, Total reward=24.0, Exploration=1.0, Steps=186, Training iteration=0\u001b[0m\n",
      "\u001b[34mHeatup> Name=main_level/agent, Worker=0, Episode=11, Total reward=25.0, Exploration=1.0, Steps=211, Training iteration=0\u001b[0m\n",
      "\u001b[34mHeatup> Name=main_level/agent, Worker=0, Episode=12, Total reward=13.0, Exploration=1.0, Steps=224, Training iteration=0\u001b[0m\n",
      "\u001b[34mHeatup> Name=main_level/agent, Worker=0, Episode=13, Total reward=27.0, Exploration=1.0, Steps=251, Training iteration=0\u001b[0m\n",
      "\u001b[34mHeatup> Name=main_level/agent, Worker=0, Episode=14, Total reward=34.0, Exploration=1.0, Steps=285, Training iteration=0\u001b[0m\n",
      "\u001b[34mHeatup> Name=main_level/agent, Worker=0, Episode=15, Total reward=24.0, Exploration=1.0, Steps=309, Training iteration=0\u001b[0m\n",
      "\u001b[34mHeatup> Name=main_level/agent, Worker=0, Episode=16, Total reward=13.0, Exploration=1.0, Steps=322, Training iteration=0\u001b[0m\n",
      "\u001b[34mHeatup> Name=main_level/agent, Worker=0, Episode=17, Total reward=17.0, Exploration=1.0, Steps=339, Training iteration=0\u001b[0m\n",
      "\u001b[34mHeatup> Name=main_level/agent, Worker=0, Episode=18, Total reward=42.0, Exploration=1.0, Steps=381, Training iteration=0\u001b[0m\n",
      "\u001b[34mHeatup> Name=main_level/agent, Worker=0, Episode=19, Total reward=46.0, Exploration=1.0, Steps=427, Training iteration=0\u001b[0m\n",
      "\u001b[34mHeatup> Name=main_level/agent, Worker=0, Episode=20, Total reward=10.0, Exploration=1.0, Steps=437, Training iteration=0\u001b[0m\n",
      "\u001b[34mHeatup> Name=main_level/agent, Worker=0, Episode=21, Total reward=19.0, Exploration=1.0, Steps=456, Training iteration=0\u001b[0m\n",
      "\u001b[34mHeatup> Name=main_level/agent, Worker=0, Episode=22, Total reward=10.0, Exploration=1.0, Steps=466, Training iteration=0\u001b[0m\n",
      "\u001b[34mHeatup> Name=main_level/agent, Worker=0, Episode=23, Total reward=14.0, Exploration=1.0, Steps=480, Training iteration=0\u001b[0m\n",
      "\u001b[34mHeatup> Name=main_level/agent, Worker=0, Episode=24, Total reward=17.0, Exploration=1.0, Steps=497, Training iteration=0\u001b[0m\n",
      "\u001b[34mHeatup> Name=main_level/agent, Worker=0, Episode=25, Total reward=25.0, Exploration=1.0, Steps=522, Training iteration=0\u001b[0m\n",
      "\u001b[34mHeatup> Name=main_level/agent, Worker=0, Episode=26, Total reward=15.0, Exploration=1.0, Steps=537, Training iteration=0\u001b[0m\n",
      "\u001b[34mHeatup> Name=main_level/agent, Worker=0, Episode=27, Total reward=12.0, Exploration=1.0, Steps=549, Training iteration=0\u001b[0m\n",
      "\u001b[34mHeatup> Name=main_level/agent, Worker=0, Episode=28, Total reward=17.0, Exploration=1.0, Steps=566, Training iteration=0\u001b[0m\n",
      "\u001b[34mHeatup> Name=main_level/agent, Worker=0, Episode=29, Total reward=17.0, Exploration=1.0, Steps=583, Training iteration=0\u001b[0m\n",
      "\u001b[34mHeatup> Name=main_level/agent, Worker=0, Episode=30, Total reward=18.0, Exploration=1.0, Steps=601, Training iteration=0\u001b[0m\n",
      "\u001b[34mHeatup> Name=main_level/agent, Worker=0, Episode=31, Total reward=16.0, Exploration=1.0, Steps=617, Training iteration=0\u001b[0m\n",
      "\u001b[34mHeatup> Name=main_level/agent, Worker=0, Episode=32, Total reward=13.0, Exploration=1.0, Steps=630, Training iteration=0\u001b[0m\n",
      "\u001b[34mHeatup> Name=main_level/agent, Worker=0, Episode=33, Total reward=17.0, Exploration=1.0, Steps=647, Training iteration=0\u001b[0m\n",
      "\u001b[34mHeatup> Name=main_level/agent, Worker=0, Episode=34, Total reward=46.0, Exploration=1.0, Steps=693, Training iteration=0\u001b[0m\n",
      "\u001b[34mHeatup> Name=main_level/agent, Worker=0, Episode=35, Total reward=13.0, Exploration=1.0, Steps=706, Training iteration=0\u001b[0m\n",
      "\u001b[34mHeatup> Name=main_level/agent, Worker=0, Episode=36, Total reward=22.0, Exploration=1.0, Steps=728, Training iteration=0\u001b[0m\n",
      "\u001b[34mHeatup> Name=main_level/agent, Worker=0, Episode=37, Total reward=29.0, Exploration=1.0, Steps=757, Training iteration=0\u001b[0m\n",
      "\u001b[34mHeatup> Name=main_level/agent, Worker=0, Episode=38, Total reward=15.0, Exploration=1.0, Steps=772, Training iteration=0\u001b[0m\n",
      "\u001b[34mHeatup> Name=main_level/agent, Worker=0, Episode=39, Total reward=51.0, Exploration=1.0, Steps=823, Training iteration=0\u001b[0m\n",
      "\u001b[34mHeatup> Name=main_level/agent, Worker=0, Episode=40, Total reward=29.0, Exploration=1.0, Steps=852, Training iteration=0\u001b[0m\n",
      "\u001b[34mHeatup> Name=main_level/agent, Worker=0, Episode=41, Total reward=27.0, Exploration=1.0, Steps=879, Training iteration=0\u001b[0m\n",
      "\u001b[34mHeatup> Name=main_level/agent, Worker=0, Episode=42, Total reward=21.0, Exploration=1.0, Steps=900, Training iteration=0\u001b[0m\n",
      "\u001b[34mHeatup> Name=main_level/agent, Worker=0, Episode=43, Total reward=11.0, Exploration=1.0, Steps=911, Training iteration=0\u001b[0m\n",
      "\u001b[34mHeatup> Name=main_level/agent, Worker=0, Episode=44, Total reward=28.0, Exploration=1.0, Steps=939, Training iteration=0\u001b[0m\n",
      "\u001b[34mHeatup> Name=main_level/agent, Worker=0, Episode=45, Total reward=27.0, Exploration=1.0, Steps=966, Training iteration=0\u001b[0m\n",
      "\u001b[34mHeatup> Name=main_level/agent, Worker=0, Episode=46, Total reward=13.0, Exploration=1.0, Steps=979, Training iteration=0\u001b[0m\n",
      "\u001b[34mHeatup> Name=main_level/agent, Worker=0, Episode=47, Total reward=34.0, Exploration=1.0, Steps=1013, Training iteration=0\u001b[0m\n",
      "\u001b[34m## Starting to improve simple_rl_graph task index 0\u001b[0m\n",
      "\u001b[34mTraining> Name=main_level/agent, Worker=0, Episode=48, Total reward=12.0, Exploration=1.0, Steps=1025, Training iteration=11\u001b[0m\n",
      "\u001b[34mTraining> Name=main_level/agent, Worker=0, Episode=49, Total reward=39.0, Exploration=0.99, Steps=1064, Training iteration=50\u001b[0m\n",
      "\u001b[34mTraining> Name=main_level/agent, Worker=0, Episode=50, Total reward=35.0, Exploration=0.99, Steps=1099, Training iteration=85\u001b[0m\n",
      "\u001b[34mTraining> Name=main_level/agent, Worker=0, Episode=51, Total reward=13.0, Exploration=0.99, Steps=1112, Training iteration=98\u001b[0m\n",
      "\u001b[34mTraining> Name=main_level/agent, Worker=0, Episode=52, Total reward=16.0, Exploration=0.99, Steps=1128, Training iteration=114\u001b[0m\n",
      "\u001b[34mTraining> Name=main_level/agent, Worker=0, Episode=53, Total reward=22.0, Exploration=0.99, Steps=1150, Training iteration=136\u001b[0m\n",
      "\u001b[34mTraining> Name=main_level/agent, Worker=0, Episode=54, Total reward=15.0, Exploration=0.98, Steps=1165, Training iteration=151\u001b[0m\n",
      "\u001b[34mTraining> Name=main_level/agent, Worker=0, Episode=55, Total reward=44.0, Exploration=0.98, Steps=1209, Training iteration=195\u001b[0m\n",
      "\u001b[34mTraining> Name=main_level/agent, Worker=0, Episode=56, Total reward=19.0, Exploration=0.98, Steps=1228, Training iteration=214\u001b[0m\n",
      "\u001b[34mTraining> Name=main_level/agent, Worker=0, Episode=57, Total reward=11.0, Exploration=0.98, Steps=1239, Training iteration=225\u001b[0m\n",
      "\u001b[34m## agent: Starting evaluation phase\u001b[0m\n",
      "\u001b[34mTesting> Name=main_level/agent, Worker=0, Episode=57, Total reward=10.0, Exploration=0.05, Steps=1239, Training iteration=226\u001b[0m\n",
      "\u001b[34m## agent: Finished evaluation phase. Success rate = 0.0, Avg Total Reward = 10.0\u001b[0m\n",
      "\u001b[34mTraining> Name=main_level/agent, Worker=0, Episode=58, Total reward=14.0, Exploration=0.98, Steps=1253, Training iteration=239\u001b[0m\n",
      "\u001b[34mTraining> Name=main_level/agent, Worker=0, Episode=59, Total reward=16.0, Exploration=0.97, Steps=1269, Training iteration=255\u001b[0m\n",
      "\u001b[34mTraining> Name=main_level/agent, Worker=0, Episode=60, Total reward=9.0, Exploration=0.97, Steps=1278, Training iteration=264\u001b[0m\n",
      "\u001b[34mTraining> Name=main_level/agent, Worker=0, Episode=61, Total reward=17.0, Exploration=0.97, Steps=1295, Training iteration=281\u001b[0m\n",
      "\u001b[34mTraining> Name=main_level/agent, Worker=0, Episode=62, Total reward=14.0, Exploration=0.97, Steps=1309, Training iteration=295\u001b[0m\n",
      "\u001b[34mTraining> Name=main_level/agent, Worker=0, Episode=63, Total reward=17.0, Exploration=0.97, Steps=1326, Training iteration=312\u001b[0m\n",
      "\u001b[34mTraining> Name=main_level/agent, Worker=0, Episode=64, Total reward=14.0, Exploration=0.97, Steps=1340, Training iteration=326\u001b[0m\n",
      "\u001b[34mTraining> Name=main_level/agent, Worker=0, Episode=65, Total reward=17.0, Exploration=0.97, Steps=1357, Training iteration=343\u001b[0m\n",
      "\u001b[34mTraining> Name=main_level/agent, Worker=0, Episode=66, Total reward=13.0, Exploration=0.96, Steps=1370, Training iteration=356\u001b[0m\n",
      "\u001b[34mTraining> Name=main_level/agent, Worker=0, Episode=67, Total reward=40.0, Exploration=0.96, Steps=1410, Training iteration=396\u001b[0m\n",
      "\u001b[34m## agent: Starting evaluation phase\u001b[0m\n",
      "\u001b[34mTesting> Name=main_level/agent, Worker=0, Episode=67, Total reward=9.0, Exploration=0.05, Steps=1410, Training iteration=397\u001b[0m\n",
      "\u001b[34m## agent: Finished evaluation phase. Success rate = 0.0, Avg Total Reward = 9.0\u001b[0m\n",
      "\u001b[34mTraining> Name=main_level/agent, Worker=0, Episode=68, Total reward=9.0, Exploration=0.96, Steps=1419, Training iteration=405\u001b[0m\n",
      "\u001b[34mTraining> Name=main_level/agent, Worker=0, Episode=69, Total reward=23.0, Exploration=0.96, Steps=1442, Training iteration=428\u001b[0m\n",
      "\u001b[34mTraining> Name=main_level/agent, Worker=0, Episode=70, Total reward=28.0, Exploration=0.95, Steps=1470, Training iteration=456\u001b[0m\n",
      "\u001b[34mTraining> Name=main_level/agent, Worker=0, Episode=71, Total reward=31.0, Exploration=0.95, Steps=1501, Training iteration=487\u001b[0m\n",
      "\u001b[34mTraining> Name=main_level/agent, Worker=0, Episode=72, Total reward=16.0, Exploration=0.95, Steps=1517, Training iteration=503\u001b[0m\n",
      "\u001b[34mTraining> Name=main_level/agent, Worker=0, Episode=73, Total reward=21.0, Exploration=0.95, Steps=1538, Training iteration=524\u001b[0m\n",
      "\u001b[34mTraining> Name=main_level/agent, Worker=0, Episode=74, Total reward=26.0, Exploration=0.95, Steps=1564, Training iteration=550\u001b[0m\n",
      "\u001b[34mTraining> Name=main_level/agent, Worker=0, Episode=75, Total reward=29.0, Exploration=0.94, Steps=1593, Training iteration=579\u001b[0m\n",
      "\u001b[34mTraining> Name=main_level/agent, Worker=0, Episode=76, Total reward=16.0, Exploration=0.94, Steps=1609, Training iteration=595\u001b[0m\n",
      "\u001b[34mTraining> Name=main_level/agent, Worker=0, Episode=77, Total reward=12.0, Exploration=0.94, Steps=1621, Training iteration=607\u001b[0m\n",
      "\u001b[34m## agent: Starting evaluation phase\u001b[0m\n",
      "\u001b[34mTesting> Name=main_level/agent, Worker=0, Episode=77, Total reward=9.0, Exploration=0.05, Steps=1621, Training iteration=608\u001b[0m\n",
      "\u001b[34m## agent: Finished evaluation phase. Success rate = 0.0, Avg Total Reward = 9.0\u001b[0m\n",
      "\u001b[34mTraining> Name=main_level/agent, Worker=0, Episode=78, Total reward=16.0, Exploration=0.94, Steps=1637, Training iteration=623\u001b[0m\n",
      "\u001b[34mTraining> Name=main_level/agent, Worker=0, Episode=79, Total reward=15.0, Exploration=0.94, Steps=1652, Training iteration=638\u001b[0m\n",
      "\u001b[34mTraining> Name=main_level/agent, Worker=0, Episode=80, Total reward=13.0, Exploration=0.94, Steps=1665, Training iteration=651\u001b[0m\n",
      "\u001b[34mTraining> Name=main_level/agent, Worker=0, Episode=81, Total reward=13.0, Exploration=0.93, Steps=1678, Training iteration=664\u001b[0m\n",
      "\u001b[34mTraining> Name=main_level/agent, Worker=0, Episode=82, Total reward=21.0, Exploration=0.93, Steps=1699, Training iteration=685\u001b[0m\n",
      "\u001b[34mTraining> Name=main_level/agent, Worker=0, Episode=83, Total reward=16.0, Exploration=0.93, Steps=1715, Training iteration=701\u001b[0m\n",
      "\u001b[34mTraining> Name=main_level/agent, Worker=0, Episode=84, Total reward=15.0, Exploration=0.93, Steps=1730, Training iteration=716\u001b[0m\n",
      "\u001b[34mTraining> Name=main_level/agent, Worker=0, Episode=85, Total reward=27.0, Exploration=0.93, Steps=1757, Training iteration=743\u001b[0m\n",
      "\u001b[34mTraining> Name=main_level/agent, Worker=0, Episode=86, Total reward=14.0, Exploration=0.92, Steps=1771, Training iteration=757\u001b[0m\n",
      "\u001b[34mTraining> Name=main_level/agent, Worker=0, Episode=87, Total reward=10.0, Exploration=0.92, Steps=1781, Training iteration=767\u001b[0m\n",
      "\u001b[34m## agent: Starting evaluation phase\u001b[0m\n",
      "\u001b[34mTesting> Name=main_level/agent, Worker=0, Episode=87, Total reward=10.0, Exploration=0.05, Steps=1781, Training iteration=768\u001b[0m\n",
      "\u001b[34m## agent: Finished evaluation phase. Success rate = 0.0, Avg Total Reward = 10.0\u001b[0m\n",
      "\u001b[34mTraining> Name=main_level/agent, Worker=0, Episode=88, Total reward=12.0, Exploration=0.92, Steps=1793, Training iteration=779\u001b[0m\n",
      "\u001b[34mCheckpoint> Saving in path=['/opt/ml/output/data/checkpoint/0_Step-831.ckpt.main_level.agent.main.online', '/opt/ml/output/data/checkpoint/0_Step-831.ckpt.main_level.agent.main.online.onnx']\u001b[0m\n",
      "\u001b[34mTraining> Name=main_level/agent, Worker=0, Episode=89, Total reward=94.0, Exploration=0.91, Steps=1887, Training iteration=873\u001b[0m\n",
      "\u001b[34mTraining> Name=main_level/agent, Worker=0, Episode=90, Total reward=27.0, Exploration=0.91, Steps=1914, Training iteration=900\u001b[0m\n",
      "\u001b[34mTraining> Name=main_level/agent, Worker=0, Episode=91, Total reward=13.0, Exploration=0.91, Steps=1927, Training iteration=913\u001b[0m\n",
      "\u001b[34mTraining> Name=main_level/agent, Worker=0, Episode=92, Total reward=10.0, Exploration=0.91, Steps=1937, Training iteration=923\u001b[0m\n",
      "\u001b[34mTraining> Name=main_level/agent, Worker=0, Episode=93, Total reward=25.0, Exploration=0.91, Steps=1962, Training iteration=948\u001b[0m\n",
      "\u001b[34mTraining> Name=main_level/agent, Worker=0, Episode=94, Total reward=43.0, Exploration=0.9, Steps=2005, Training iteration=991\u001b[0m\n",
      "\u001b[34mTraining> Name=main_level/agent, Worker=0, Episode=95, Total reward=45.0, Exploration=0.9, Steps=2050, Training iteration=1036\u001b[0m\n",
      "\u001b[34mTraining> Name=main_level/agent, Worker=0, Episode=96, Total reward=21.0, Exploration=0.9, Steps=2071, Training iteration=1057\u001b[0m\n",
      "\u001b[34mTraining> Name=main_level/agent, Worker=0, Episode=97, Total reward=10.0, Exploration=0.89, Steps=2081, Training iteration=1067\u001b[0m\n",
      "\u001b[34m## agent: Starting evaluation phase\u001b[0m\n",
      "\u001b[34mTesting> Name=main_level/agent, Worker=0, Episode=97, Total reward=29.0, Exploration=0.05, Steps=2081, Training iteration=1068\u001b[0m\n",
      "\u001b[34m## agent: Finished evaluation phase. Success rate = 0.0, Avg Total Reward = 29.0\u001b[0m\n",
      "\u001b[34mTraining> Name=main_level/agent, Worker=0, Episode=98, Total reward=96.0, Exploration=0.88, Steps=2177, Training iteration=1163\u001b[0m\n",
      "\u001b[34mTraining> Name=main_level/agent, Worker=0, Episode=99, Total reward=16.0, Exploration=0.88, Steps=2193, Training iteration=1179\u001b[0m\n",
      "\u001b[34mTraining> Name=main_level/agent, Worker=0, Episode=100, Total reward=11.0, Exploration=0.88, Steps=2204, Training iteration=1190\u001b[0m\n",
      "\u001b[34mTraining> Name=main_level/agent, Worker=0, Episode=101, Total reward=29.0, Exploration=0.88, Steps=2233, Training iteration=1219\u001b[0m\n",
      "\u001b[34mTraining> Name=main_level/agent, Worker=0, Episode=102, Total reward=32.0, Exploration=0.88, Steps=2265, Training iteration=1251\u001b[0m\n",
      "\u001b[34mTraining> Name=main_level/agent, Worker=0, Episode=103, Total reward=46.0, Exploration=0.87, Steps=2311, Training iteration=1297\u001b[0m\n",
      "\u001b[34mTraining> Name=main_level/agent, Worker=0, Episode=104, Total reward=20.0, Exploration=0.87, Steps=2331, Training iteration=1317\u001b[0m\n",
      "\u001b[34mTraining> Name=main_level/agent, Worker=0, Episode=105, Total reward=35.0, Exploration=0.87, Steps=2366, Training iteration=1352\u001b[0m\n",
      "\u001b[34mTraining> Name=main_level/agent, Worker=0, Episode=106, Total reward=18.0, Exploration=0.86, Steps=2384, Training iteration=1370\u001b[0m\n",
      "\u001b[34mTraining> Name=main_level/agent, Worker=0, Episode=107, Total reward=27.0, Exploration=0.86, Steps=2411, Training iteration=1397\u001b[0m\n",
      "\u001b[34m## agent: Starting evaluation phase\u001b[0m\n",
      "\u001b[34mTesting> Name=main_level/agent, Worker=0, Episode=107, Total reward=69.0, Exploration=0.05, Steps=2411, Training iteration=1398\u001b[0m\n",
      "\u001b[34m## agent: Finished evaluation phase. Success rate = 0.0, Avg Total Reward = 69.0\u001b[0m\n",
      "\u001b[34mTraining> Name=main_level/agent, Worker=0, Episode=108, Total reward=14.0, Exploration=0.86, Steps=2425, Training iteration=1411\u001b[0m\n",
      "\u001b[34mTraining> Name=main_level/agent, Worker=0, Episode=109, Total reward=9.0, Exploration=0.86, Steps=2434, Training iteration=1420\u001b[0m\n",
      "\u001b[34mTraining> Name=main_level/agent, Worker=0, Episode=110, Total reward=37.0, Exploration=0.86, Steps=2471, Training iteration=1457\u001b[0m\n",
      "\u001b[34mTraining> Name=main_level/agent, Worker=0, Episode=111, Total reward=38.0, Exploration=0.85, Steps=2509, Training iteration=1495\u001b[0m\n",
      "\u001b[34mTraining> Name=main_level/agent, Worker=0, Episode=112, Total reward=24.0, Exploration=0.85, Steps=2533, Training iteration=1519\u001b[0m\n",
      "\u001b[34mTraining> Name=main_level/agent, Worker=0, Episode=113, Total reward=17.0, Exploration=0.85, Steps=2550, Training iteration=1536\u001b[0m\n",
      "\u001b[34mTraining> Name=main_level/agent, Worker=0, Episode=114, Total reward=51.0, Exploration=0.84, Steps=2601, Training iteration=1587\u001b[0m\n",
      "\u001b[34mTraining> Name=main_level/agent, Worker=0, Episode=115, Total reward=12.0, Exploration=0.84, Steps=2613, Training iteration=1599\u001b[0m\n",
      "\u001b[34mTraining> Name=main_level/agent, Worker=0, Episode=116, Total reward=19.0, Exploration=0.84, Steps=2632, Training iteration=1618\u001b[0m\n",
      "\u001b[34mTraining> Name=main_level/agent, Worker=0, Episode=117, Total reward=18.0, Exploration=0.84, Steps=2650, Training iteration=1636\u001b[0m\n",
      "\u001b[34m## agent: Starting evaluation phase\u001b[0m\n",
      "\u001b[34mTesting> Name=main_level/agent, Worker=0, Episode=117, Total reward=179.0, Exploration=0.05, Steps=2650, Training iteration=1637\u001b[0m\n",
      "\u001b[34m## agent: Finished evaluation phase. Success rate = 0.0, Avg Total Reward = 179.0\u001b[0m\n",
      "\u001b[34mTraining> Name=main_level/agent, Worker=0, Episode=118, Total reward=34.0, Exploration=0.83, Steps=2684, Training iteration=1670\u001b[0m\n",
      "\u001b[34mTraining> Name=main_level/agent, Worker=0, Episode=119, Total reward=24.0, Exploration=0.83, Steps=2708, Training iteration=1694\u001b[0m\n",
      "\u001b[34mTraining> Name=main_level/agent, Worker=0, Episode=120, Total reward=36.0, Exploration=0.83, Steps=2744, Training iteration=1730\u001b[0m\n",
      "\u001b[34mTraining> Name=main_level/agent, Worker=0, Episode=121, Total reward=13.0, Exploration=0.83, Steps=2757, Training iteration=1743\u001b[0m\n",
      "\u001b[34mTraining> Name=main_level/agent, Worker=0, Episode=122, Total reward=9.0, Exploration=0.83, Steps=2766, Training iteration=1752\u001b[0m\n",
      "\u001b[34mCheckpoint> Saving in path=['/opt/ml/output/data/checkpoint/1_Step-1781.ckpt.main_level.agent.main.online', '/opt/ml/output/data/checkpoint/1_Step-1781.ckpt.main_level.agent.main.online.onnx']\u001b[0m\n",
      "\u001b[34mTraining> Name=main_level/agent, Worker=0, Episode=123, Total reward=45.0, Exploration=0.82, Steps=2811, Training iteration=1797\u001b[0m\n",
      "\u001b[34mTraining> Name=main_level/agent, Worker=0, Episode=124, Total reward=44.0, Exploration=0.82, Steps=2855, Training iteration=1841\u001b[0m\n",
      "\u001b[34mTraining> Name=main_level/agent, Worker=0, Episode=125, Total reward=56.0, Exploration=0.81, Steps=2911, Training iteration=1897\u001b[0m\n",
      "\u001b[34mTraining> Name=main_level/agent, Worker=0, Episode=126, Total reward=16.0, Exploration=0.81, Steps=2927, Training iteration=1913\u001b[0m\n",
      "\u001b[34mTraining> Name=main_level/agent, Worker=0, Episode=127, Total reward=19.0, Exploration=0.81, Steps=2946, Training iteration=1932\u001b[0m\n",
      "\u001b[34m## agent: Starting evaluation phase\u001b[0m\n",
      "\u001b[34mTesting> Name=main_level/agent, Worker=0, Episode=127, Total reward=148.0, Exploration=0.05, Steps=2946, Training iteration=1933\u001b[0m\n",
      "\u001b[34m## agent: Finished evaluation phase. Success rate = 0.0, Avg Total Reward = 148.0\u001b[0m\n",
      "\u001b[34mTraining> Name=main_level/agent, Worker=0, Episode=128, Total reward=10.0, Exploration=0.81, Steps=2956, Training iteration=1942\u001b[0m\n",
      "\u001b[34mTraining> Name=main_level/agent, Worker=0, Episode=129, Total reward=29.0, Exploration=0.8, Steps=2985, Training iteration=1971\u001b[0m\n",
      "\u001b[34mTraining> Name=main_level/agent, Worker=0, Episode=130, Total reward=30.0, Exploration=0.8, Steps=3015, Training iteration=2001\u001b[0m\n",
      "\u001b[34mTraining> Name=main_level/agent, Worker=0, Episode=131, Total reward=43.0, Exploration=0.8, Steps=3058, Training iteration=2044\u001b[0m\n",
      "\u001b[34mTraining> Name=main_level/agent, Worker=0, Episode=132, Total reward=22.0, Exploration=0.8, Steps=3080, Training iteration=2066\u001b[0m\n",
      "\u001b[34mTraining> Name=main_level/agent, Worker=0, Episode=133, Total reward=114.0, Exploration=0.78, Steps=3194, Training iteration=2180\u001b[0m\n",
      "\u001b[34mTraining> Name=main_level/agent, Worker=0, Episode=134, Total reward=48.0, Exploration=0.78, Steps=3242, Training iteration=2228\u001b[0m\n",
      "\u001b[34mTraining> Name=main_level/agent, Worker=0, Episode=135, Total reward=13.0, Exploration=0.78, Steps=3255, Training iteration=2241\u001b[0m\n",
      "\u001b[34mTraining> Name=main_level/agent, Worker=0, Episode=136, Total reward=39.0, Exploration=0.77, Steps=3294, Training iteration=2280\u001b[0m\n",
      "\u001b[34mTraining> Name=main_level/agent, Worker=0, Episode=137, Total reward=13.0, Exploration=0.77, Steps=3307, Training iteration=2293\u001b[0m\n",
      "\u001b[34m## agent: Starting evaluation phase\u001b[0m\n",
      "\u001b[34mTesting> Name=main_level/agent, Worker=0, Episode=137, Total reward=146.0, Exploration=0.05, Steps=3307, Training iteration=2294\u001b[0m\n",
      "\u001b[34m## agent: Finished evaluation phase. Success rate = 0.0, Avg Total Reward = 146.0\u001b[0m\n",
      "\u001b[34mTraining> Name=main_level/agent, Worker=0, Episode=138, Total reward=19.0, Exploration=0.77, Steps=3326, Training iteration=2312\u001b[0m\n",
      "\u001b[34mTraining> Name=main_level/agent, Worker=0, Episode=139, Total reward=14.0, Exploration=0.77, Steps=3340, Training iteration=2326\u001b[0m\n",
      "\u001b[34mTraining> Name=main_level/agent, Worker=0, Episode=140, Total reward=10.0, Exploration=0.77, Steps=3350, Training iteration=2336\u001b[0m\n",
      "\u001b[34mTraining> Name=main_level/agent, Worker=0, Episode=141, Total reward=57.0, Exploration=0.76, Steps=3407, Training iteration=2393\u001b[0m\n",
      "\u001b[34mTraining> Name=main_level/agent, Worker=0, Episode=142, Total reward=67.0, Exploration=0.76, Steps=3474, Training iteration=2460\u001b[0m\n",
      "\u001b[34mTraining> Name=main_level/agent, Worker=0, Episode=143, Total reward=60.0, Exploration=0.75, Steps=3534, Training iteration=2520\u001b[0m\n",
      "\u001b[34mTraining> Name=main_level/agent, Worker=0, Episode=144, Total reward=16.0, Exploration=0.75, Steps=3550, Training iteration=2536\u001b[0m\n",
      "\u001b[34mTraining> Name=main_level/agent, Worker=0, Episode=145, Total reward=69.0, Exploration=0.74, Steps=3619, Training iteration=2605\u001b[0m\n",
      "\u001b[34mTraining> Name=main_level/agent, Worker=0, Episode=146, Total reward=13.0, Exploration=0.74, Steps=3632, Training iteration=2618\u001b[0m\n",
      "\u001b[34mTraining> Name=main_level/agent, Worker=0, Episode=147, Total reward=178.0, Exploration=0.72, Steps=3810, Training iteration=2796\u001b[0m\n",
      "\u001b[34m## agent: Starting evaluation phase\u001b[0m\n",
      "\u001b[34mTesting> Name=main_level/agent, Worker=0, Episode=147, Total reward=193.0, Exploration=0.05, Steps=3810, Training iteration=2797\u001b[0m\n",
      "\u001b[34m## agent: Finished evaluation phase. Success rate = 0.0, Avg Total Reward = 193.0\u001b[0m\n",
      "\u001b[34mCheckpoint> Saving in path=['/opt/ml/output/data/checkpoint/2_Step-2798.ckpt.main_level.agent.main.online', '/opt/ml/output/data/checkpoint/2_Step-2798.ckpt.main_level.agent.main.online.onnx']\u001b[0m\n",
      "\u001b[34mTraining> Name=main_level/agent, Worker=0, Episode=148, Total reward=42.0, Exploration=0.72, Steps=3852, Training iteration=2838\u001b[0m\n",
      "\u001b[34mTraining> Name=main_level/agent, Worker=0, Episode=149, Total reward=30.0, Exploration=0.72, Steps=3882, Training iteration=2868\u001b[0m\n",
      "\u001b[34mTraining> Name=main_level/agent, Worker=0, Episode=150, Total reward=11.0, Exploration=0.71, Steps=3893, Training iteration=2879\u001b[0m\n",
      "\u001b[34mTraining> Name=main_level/agent, Worker=0, Episode=151, Total reward=40.0, Exploration=0.71, Steps=3933, Training iteration=2919\u001b[0m\n",
      "\u001b[34mTraining> Name=main_level/agent, Worker=0, Episode=152, Total reward=36.0, Exploration=0.71, Steps=3969, Training iteration=2955\u001b[0m\n",
      "\u001b[34mTraining> Name=main_level/agent, Worker=0, Episode=153, Total reward=64.0, Exploration=0.7, Steps=4033, Training iteration=3019\u001b[0m\n",
      "\u001b[34mTraining> Name=main_level/agent, Worker=0, Episode=154, Total reward=79.0, Exploration=0.69, Steps=4112, Training iteration=3098\u001b[0m\n",
      "\u001b[34mTraining> Name=main_level/agent, Worker=0, Episode=155, Total reward=153.0, Exploration=0.68, Steps=4265, Training iteration=3251\u001b[0m\n",
      "\u001b[34mTraining> Name=main_level/agent, Worker=0, Episode=156, Total reward=22.0, Exploration=0.68, Steps=4287, Training iteration=3273\u001b[0m\n",
      "\u001b[34mTraining> Name=main_level/agent, Worker=0, Episode=157, Total reward=80.0, Exploration=0.67, Steps=4367, Training iteration=3353\u001b[0m\n",
      "\u001b[34m## agent: Starting evaluation phase\u001b[0m\n",
      "\u001b[34mTesting> Name=main_level/agent, Worker=0, Episode=157, Total reward=154.0, Exploration=0.05, Steps=4367, Training iteration=3354\u001b[0m\n",
      "\u001b[34m## agent: Finished evaluation phase. Success rate = 0.0, Avg Total Reward = 154.0\u001b[0m\n",
      "\u001b[34mTraining> Name=main_level/agent, Worker=0, Episode=158, Total reward=21.0, Exploration=0.67, Steps=4388, Training iteration=3374\u001b[0m\n",
      "\u001b[34mTraining> Name=main_level/agent, Worker=0, Episode=159, Total reward=64.0, Exploration=0.66, Steps=4452, Training iteration=3438\u001b[0m\n",
      "\u001b[34mTraining> Name=main_level/agent, Worker=0, Episode=160, Total reward=130.0, Exploration=0.65, Steps=4582, Training iteration=3568\u001b[0m\n",
      "\u001b[34mTraining> Name=main_level/agent, Worker=0, Episode=161, Total reward=59.0, Exploration=0.64, Steps=4641, Training iteration=3627\u001b[0m\n",
      "\u001b[34mTraining> Name=main_level/agent, Worker=0, Episode=162, Total reward=85.0, Exploration=0.63, Steps=4726, Training iteration=3712\u001b[0m\n",
      "\u001b[34mTraining> Name=main_level/agent, Worker=0, Episode=163, Total reward=158.0, Exploration=0.62, Steps=4884, Training iteration=3870\u001b[0m\n",
      "\u001b[34mCheckpoint> Saving in path=['/opt/ml/output/data/checkpoint/3_Step-3890.ckpt.main_level.agent.main.online', '/opt/ml/output/data/checkpoint/3_Step-3890.ckpt.main_level.agent.main.online.onnx']\u001b[0m\n",
      "\u001b[34mTraining> Name=main_level/agent, Worker=0, Episode=164, Total reward=102.0, Exploration=0.61, Steps=4986, Training iteration=3972\u001b[0m\n",
      "\u001b[34mTraining> Name=main_level/agent, Worker=0, Episode=165, Total reward=62.0, Exploration=0.6, Steps=5048, Training iteration=4034\u001b[0m\n",
      "\u001b[34mTraining> Name=main_level/agent, Worker=0, Episode=166, Total reward=112.0, Exploration=0.59, Steps=5160, Training iteration=4146\u001b[0m\n",
      "\u001b[34mTraining> Name=main_level/agent, Worker=0, Episode=167, Total reward=53.0, Exploration=0.58, Steps=5213, Training iteration=4199\u001b[0m\n",
      "\u001b[34m## agent: Starting evaluation phase\u001b[0m\n",
      "\u001b[34mTesting> Name=main_level/agent, Worker=0, Episode=167, Total reward=193.0, Exploration=0.05, Steps=5213, Training iteration=4200\u001b[0m\n",
      "\u001b[34m## agent: Finished evaluation phase. Success rate = 0.0, Avg Total Reward = 193.0\u001b[0m\n",
      "\u001b[34mTraining> Name=main_level/agent, Worker=0, Episode=168, Total reward=91.0, Exploration=0.58, Steps=5304, Training iteration=4290\u001b[0m\n",
      "\u001b[34mTraining> Name=main_level/agent, Worker=0, Episode=169, Total reward=158.0, Exploration=0.56, Steps=5462, Training iteration=4448\u001b[0m\n",
      "\u001b[34mTraining> Name=main_level/agent, Worker=0, Episode=170, Total reward=38.0, Exploration=0.56, Steps=5500, Training iteration=4486\u001b[0m\n",
      "\u001b[34mTraining> Name=main_level/agent, Worker=0, Episode=171, Total reward=148.0, Exploration=0.54, Steps=5648, Training iteration=4634\u001b[0m\n",
      "\u001b[34mTraining> Name=main_level/agent, Worker=0, Episode=172, Total reward=107.0, Exploration=0.53, Steps=5755, Training iteration=4741\u001b[0m\n",
      "\u001b[34mTraining> Name=main_level/agent, Worker=0, Episode=173, Total reward=200.0, Exploration=0.51, Steps=5955, Training iteration=4941\u001b[0m\n",
      "\u001b[34mCheckpoint> Saving in path=['/opt/ml/output/data/checkpoint/4_Step-4963.ckpt.main_level.agent.main.online', '/opt/ml/output/data/checkpoint/4_Step-4963.ckpt.main_level.agent.main.online.onnx']\u001b[0m\n",
      "\u001b[34mTraining> Name=main_level/agent, Worker=0, Episode=174, Total reward=108.0, Exploration=0.5, Steps=6063, Training iteration=5049\u001b[0m\n",
      "\u001b[34mTraining> Name=main_level/agent, Worker=0, Episode=175, Total reward=126.0, Exploration=0.49, Steps=6189, Training iteration=5175\u001b[0m\n",
      "\u001b[34mTraining> Name=main_level/agent, Worker=0, Episode=176, Total reward=166.0, Exploration=0.47, Steps=6355, Training iteration=5341\u001b[0m\n",
      "\u001b[34mTraining> Name=main_level/agent, Worker=0, Episode=177, Total reward=37.0, Exploration=0.47, Steps=6392, Training iteration=5378\u001b[0m\n",
      "\u001b[34m## agent: Starting evaluation phase\u001b[0m\n",
      "\u001b[34mTesting> Name=main_level/agent, Worker=0, Episode=177, Total reward=200.0, Exploration=0.05, Steps=6392, Training iteration=5379\u001b[0m\n",
      "\u001b[34m## agent: Finished evaluation phase. Success rate = 1.0, Avg Total Reward = 200.0\u001b[0m\n",
      "\u001b[34mTraining> Name=main_level/agent, Worker=0, Episode=178, Total reward=200.0, Exploration=0.45, Steps=6592, Training iteration=5578\u001b[0m\n",
      "\u001b[34mTraining> Name=main_level/agent, Worker=0, Episode=179, Total reward=200.0, Exploration=0.43, Steps=6792, Training iteration=5778\u001b[0m\n",
      "\u001b[34mTraining> Name=main_level/agent, Worker=0, Episode=180, Total reward=121.0, Exploration=0.42, Steps=6913, Training iteration=5899\u001b[0m\n",
      "\u001b[34mCheckpoint> Saving in path=['/opt/ml/output/data/checkpoint/5_Step-5932.ckpt.main_level.agent.main.online', '/opt/ml/output/data/checkpoint/5_Step-5932.ckpt.main_level.agent.main.online.onnx']\u001b[0m\n",
      "\u001b[34mTraining> Name=main_level/agent, Worker=0, Episode=181, Total reward=92.0, Exploration=0.41, Steps=7005, Training iteration=5991\u001b[0m\n",
      "\u001b[34mTraining> Name=main_level/agent, Worker=0, Episode=182, Total reward=53.0, Exploration=0.4, Steps=7058, Training iteration=6044\u001b[0m\n",
      "\u001b[34mTraining> Name=main_level/agent, Worker=0, Episode=183, Total reward=200.0, Exploration=0.38, Steps=7258, Training iteration=6244\u001b[0m\n",
      "\u001b[34mTraining> Name=main_level/agent, Worker=0, Episode=184, Total reward=145.0, Exploration=0.37, Steps=7403, Training iteration=6389\u001b[0m\n",
      "\u001b[34mTraining> Name=main_level/agent, Worker=0, Episode=185, Total reward=186.0, Exploration=0.35, Steps=7589, Training iteration=6575\u001b[0m\n",
      "\u001b[34mTraining> Name=main_level/agent, Worker=0, Episode=186, Total reward=27.0, Exploration=0.35, Steps=7616, Training iteration=6602\u001b[0m\n",
      "\u001b[34mTraining> Name=main_level/agent, Worker=0, Episode=187, Total reward=200.0, Exploration=0.33, Steps=7816, Training iteration=6802\u001b[0m\n",
      "\u001b[34m## agent: Starting evaluation phase\u001b[0m\n",
      "\u001b[34mTesting> Name=main_level/agent, Worker=0, Episode=187, Total reward=200.0, Exploration=0.05, Steps=7816, Training iteration=6803\u001b[0m\n",
      "\u001b[34m## agent: Finished evaluation phase. Success rate = 1.0, Avg Total Reward = 200.0\u001b[0m\n",
      "\u001b[34mCheckpoint> Saving in path=['/opt/ml/output/data/checkpoint/6_Step-6939.ckpt.main_level.agent.main.online', '/opt/ml/output/data/checkpoint/6_Step-6939.ckpt.main_level.agent.main.online.onnx']\u001b[0m\n",
      "\u001b[34mTraining> Name=main_level/agent, Worker=0, Episode=188, Total reward=199.0, Exploration=0.31, Steps=8015, Training iteration=7001\u001b[0m\n",
      "\u001b[34mTraining> Name=main_level/agent, Worker=0, Episode=189, Total reward=200.0, Exploration=0.29, Steps=8215, Training iteration=7201\u001b[0m\n",
      "\u001b[34mTraining> Name=main_level/agent, Worker=0, Episode=190, Total reward=185.0, Exploration=0.27, Steps=8400, Training iteration=7386\u001b[0m\n",
      "\u001b[34mTraining> Name=main_level/agent, Worker=0, Episode=191, Total reward=165.0, Exploration=0.25, Steps=8565, Training iteration=7551\u001b[0m\n",
      "\u001b[34mTraining> Name=main_level/agent, Worker=0, Episode=192, Total reward=200.0, Exploration=0.23, Steps=8765, Training iteration=7751\u001b[0m\n",
      "\u001b[34mTraining> Name=main_level/agent, Worker=0, Episode=193, Total reward=200.0, Exploration=0.21, Steps=8965, Training iteration=7951\u001b[0m\n",
      "\u001b[34mCheckpoint> Saving in path=['/opt/ml/output/data/checkpoint/7_Step-7995.ckpt.main_level.agent.main.online', '/opt/ml/output/data/checkpoint/7_Step-7995.ckpt.main_level.agent.main.online.onnx']\u001b[0m\n",
      "\u001b[34mTraining> Name=main_level/agent, Worker=0, Episode=194, Total reward=187.0, Exploration=0.19, Steps=9152, Training iteration=8138\u001b[0m\n",
      "\u001b[34mTraining> Name=main_level/agent, Worker=0, Episode=195, Total reward=200.0, Exploration=0.17, Steps=9352, Training iteration=8338\u001b[0m\n",
      "\u001b[34mTraining> Name=main_level/agent, Worker=0, Episode=196, Total reward=200.0, Exploration=0.15, Steps=9552, Training iteration=8538\u001b[0m\n",
      "\u001b[34mTraining> Name=main_level/agent, Worker=0, Episode=197, Total reward=200.0, Exploration=0.13, Steps=9752, Training iteration=8738\u001b[0m\n",
      "\u001b[34m## agent: Starting evaluation phase\u001b[0m\n",
      "\u001b[34mTesting> Name=main_level/agent, Worker=0, Episode=197, Total reward=200.0, Exploration=0.05, Steps=9752, Training iteration=8739\u001b[0m\n",
      "\u001b[34m## agent: Finished evaluation phase. Success rate = 1.0, Avg Total Reward = 200.0\u001b[0m\n",
      "\u001b[34mTraining> Name=main_level/agent, Worker=0, Episode=198, Total reward=200.0, Exploration=0.12, Steps=9952, Training iteration=8938\u001b[0m\n",
      "\u001b[34mCheckpoint> Saving in path=['/opt/ml/output/data/checkpoint/8_Step-8939.ckpt.main_level.agent.main.online', '/opt/ml/output/data/checkpoint/8_Step-8939.ckpt.main_level.agent.main.online.onnx']\u001b[0m\n",
      "\u001b[34mTraining> Name=main_level/agent, Worker=0, Episode=199, Total reward=200.0, Exploration=0.1, Steps=10152, Training iteration=9138\u001b[0m\n",
      "\u001b[34mTraining> Name=main_level/agent, Worker=0, Episode=200, Total reward=200.0, Exploration=0.08, Steps=10352, Training iteration=9338\u001b[0m\n",
      "\u001b[34mTraining> Name=main_level/agent, Worker=0, Episode=201, Total reward=182.0, Exploration=0.06, Steps=10534, Training iteration=9520\u001b[0m\n",
      "\u001b[34mTraining> Name=main_level/agent, Worker=0, Episode=202, Total reward=200.0, Exploration=0.04, Steps=10734, Training iteration=9720\u001b[0m\n",
      "\u001b[34mTraining> Name=main_level/agent, Worker=0, Episode=203, Total reward=200.0, Exploration=0.02, Steps=10934, Training iteration=9920\u001b[0m\n",
      "\u001b[34mCheckpoint> Saving in path=['/opt/ml/output/data/checkpoint/9_Step-9942.ckpt.main_level.agent.main.online', '/opt/ml/output/data/checkpoint/9_Step-9942.ckpt.main_level.agent.main.online.onnx']\u001b[0m\n",
      "\u001b[34mTraining> Name=main_level/agent, Worker=0, Episode=204, Total reward=200.0, Exploration=0.01, Steps=11134, Training iteration=10120\u001b[0m\n",
      "\u001b[34mTraining> Name=main_level/agent, Worker=0, Episode=205, Total reward=200.0, Exploration=0.01, Steps=11334, Training iteration=10320\u001b[0m\n",
      "\u001b[34mTraining> Name=main_level/agent, Worker=0, Episode=206, Total reward=200.0, Exploration=0.01, Steps=11534, Training iteration=10520\u001b[0m\n",
      "\u001b[34mTraining> Name=main_level/agent, Worker=0, Episode=207, Total reward=200.0, Exploration=0.01, Steps=11734, Training iteration=10720\u001b[0m\n",
      "\u001b[34m## agent: Starting evaluation phase\u001b[0m\n",
      "\u001b[34mTesting> Name=main_level/agent, Worker=0, Episode=207, Total reward=200.0, Exploration=0.05, Steps=11734, Training iteration=10721\u001b[0m\n",
      "\u001b[34m## agent: Finished evaluation phase. Success rate = 1.0, Avg Total Reward = 200.0\u001b[0m\n",
      "\u001b[34mONNX correction not required for DQN agent.\u001b[0m\n",
      "\u001b[34m2020-06-29 22:08:33,948 sagemaker-containers INFO     Reporting training SUCCESS\u001b[0m\n",
      "\n",
      "2020-06-29 22:08:45 Uploading - Uploading generated training model\n",
      "2020-06-29 22:08:45 Completed - Training job completed\n",
      "Training seconds: 163\n",
      "Billable seconds: 163\n"
     ]
    }
   ],
   "source": [
    "estimator = RLEstimator(entry_point=\"train-coach.py\",           \n",
    "                        source_dir='src',                       \n",
    "                        dependencies=[\"common/sagemaker_rl\"],\n",
    "                        toolkit=RLToolkit.COACH,\n",
    "                        toolkit_version='0.11.0',\n",
    "                        framework=RLFramework.MXNET,\n",
    "                        role=role,\n",
    "                        train_instance_type=instance_type,\n",
    "                        train_instance_count=1,\n",
    "                        output_path=s3_output_path,\n",
    "                        base_job_name=job_name_prefix,\n",
    "                        hyperparameters = {\n",
    "                          \"RLCOACH_PRESET\": \"preset-cartpole-dqn\",\n",
    "                          \"rl.agent_params.algorithm.discount\": 0.99,\n",
    "                          \"rl.evaluation_steps:EnvironmentEpisodes\": 1,\n",
    "                          \"improve_steps\": 9000,\n",
    "                          \"save_model\": 1\n",
    "                        }\n",
    "                    )\n",
    "\n",
    "estimator.fit(wait=True)"
   ]
  },
  {
   "cell_type": "markdown",
   "metadata": {},
   "source": [
    "## Store intermediate training output and model checkpoints \n",
    "\n",
    "The output from the training job above is stored on S3. The intermediate folder contains gifs and metadata of the training."
   ]
  },
  {
   "cell_type": "code",
   "execution_count": 55,
   "metadata": {},
   "outputs": [
    {
     "name": "stdout",
     "output_type": "stream",
     "text": [
      "Job name: rl-cart-pole-2020-06-29-22-03-16-475\n",
      "S3 job path: s3://sagemaker-us-east-1-912668378040/rl-cart-pole-2020-06-29-22-03-16-475\n",
      "Output.tar.gz location: s3://sagemaker-us-east-1-912668378040/rl-cart-pole-2020-06-29-22-03-16-475/output/output.tar.gz\n",
      "Intermediate folder path: s3://sagemaker-us-east-1-912668378040/rl-cart-pole-2020-06-29-22-03-16-475/output/intermediate/\n",
      "Create local folder /tmp/rl-cart-pole-2020-06-29-22-03-16-475\n"
     ]
    }
   ],
   "source": [
    "job_name=estimator._current_job_name\n",
    "print(\"Job name: {}\".format(job_name))\n",
    "\n",
    "s3_url = \"s3://{}/{}\".format(s3_bucket,job_name)\n",
    "\n",
    "if local_mode:\n",
    "    output_tar_key = \"{}/output.tar.gz\".format(job_name)\n",
    "else:\n",
    "    output_tar_key = \"{}/output/output.tar.gz\".format(job_name)\n",
    "\n",
    "intermediate_folder_key = \"{}/output/intermediate/\".format(job_name)\n",
    "output_url = \"s3://{}/{}\".format(s3_bucket, output_tar_key)\n",
    "intermediate_url = \"s3://{}/{}\".format(s3_bucket, intermediate_folder_key)\n",
    "\n",
    "print(\"S3 job path: {}\".format(s3_url))\n",
    "print(\"Output.tar.gz location: {}\".format(output_url))\n",
    "print(\"Intermediate folder path: {}\".format(intermediate_url))\n",
    "    \n",
    "tmp_dir = \"/tmp/{}\".format(job_name)\n",
    "os.system(\"mkdir {}\".format(tmp_dir))\n",
    "print(\"Create local folder {}\".format(tmp_dir))"
   ]
  },
  {
   "cell_type": "markdown",
   "metadata": {},
   "source": [
    "## Visualization"
   ]
  },
  {
   "cell_type": "markdown",
   "metadata": {},
   "source": [
    "### Plot metrics for training job\n",
    "We can pull the reward metric of the training and plot it to see the performance of the model over time."
   ]
  },
  {
   "cell_type": "code",
   "execution_count": 56,
   "metadata": {},
   "outputs": [
    {
     "name": "stdout",
     "output_type": "stream",
     "text": [
      "Waiting for s3://sagemaker-us-east-1-912668378040/rl-cart-pole-2020-06-29-22-03-16-475/output/intermediate/worker_0.simple_rl_graph.main_level.main_level.agent_0.csv...\n",
      "Downloading rl-cart-pole-2020-06-29-22-03-16-475/output/intermediate/worker_0.simple_rl_graph.main_level.main_level.agent_0.csv\n"
     ]
    }
   ],
   "source": [
    "%matplotlib inline\n",
    "import pandas as pd\n",
    "\n",
    "csv_file_name = \"worker_0.simple_rl_graph.main_level.main_level.agent_0.csv\"\n",
    "key = os.path.join(intermediate_folder_key, csv_file_name)\n",
    "wait_for_s3_object(s3_bucket, key, tmp_dir, training_job_name=job_name)\n",
    "\n",
    "csv_file = \"{}/{}\".format(tmp_dir, csv_file_name)\n",
    "df = pd.read_csv(csv_file)"
   ]
  },
  {
   "cell_type": "code",
   "execution_count": 57,
   "metadata": {},
   "outputs": [
    {
     "data": {
      "text/html": [
       "<div>\n",
       "<style scoped>\n",
       "    .dataframe tbody tr th:only-of-type {\n",
       "        vertical-align: middle;\n",
       "    }\n",
       "\n",
       "    .dataframe tbody tr th {\n",
       "        vertical-align: top;\n",
       "    }\n",
       "\n",
       "    .dataframe thead th {\n",
       "        text-align: right;\n",
       "    }\n",
       "</style>\n",
       "<table border=\"1\" class=\"dataframe\">\n",
       "  <thead>\n",
       "    <tr style=\"text-align: right;\">\n",
       "      <th></th>\n",
       "      <th>Episode #</th>\n",
       "      <th>Training Iter</th>\n",
       "      <th>In Heatup</th>\n",
       "      <th>ER #Transitions</th>\n",
       "      <th>ER #Episodes</th>\n",
       "      <th>Episode Length</th>\n",
       "      <th>Total steps</th>\n",
       "      <th>Epsilon</th>\n",
       "      <th>Shaped Training Reward</th>\n",
       "      <th>Training Reward</th>\n",
       "      <th>...</th>\n",
       "      <th>Grads (unclipped)/Max</th>\n",
       "      <th>Grads (unclipped)/Min</th>\n",
       "      <th>Discounted Return/Mean</th>\n",
       "      <th>Discounted Return/Stdev</th>\n",
       "      <th>Discounted Return/Max</th>\n",
       "      <th>Discounted Return/Min</th>\n",
       "      <th>Q/Mean</th>\n",
       "      <th>Q/Stdev</th>\n",
       "      <th>Q/Max</th>\n",
       "      <th>Q/Min</th>\n",
       "    </tr>\n",
       "  </thead>\n",
       "  <tbody>\n",
       "    <tr>\n",
       "      <th>0</th>\n",
       "      <td>1</td>\n",
       "      <td>0.0</td>\n",
       "      <td>1.0</td>\n",
       "      <td>21.0</td>\n",
       "      <td>21.0</td>\n",
       "      <td>21.0</td>\n",
       "      <td>21.0</td>\n",
       "      <td>1.0</td>\n",
       "      <td>NaN</td>\n",
       "      <td>NaN</td>\n",
       "      <td>...</td>\n",
       "      <td>NaN</td>\n",
       "      <td>NaN</td>\n",
       "      <td>10.300281</td>\n",
       "      <td>5.456876</td>\n",
       "      <td>19.027213</td>\n",
       "      <td>1.0</td>\n",
       "      <td>NaN</td>\n",
       "      <td>NaN</td>\n",
       "      <td>NaN</td>\n",
       "      <td>NaN</td>\n",
       "    </tr>\n",
       "    <tr>\n",
       "      <th>1</th>\n",
       "      <td>2</td>\n",
       "      <td>0.0</td>\n",
       "      <td>1.0</td>\n",
       "      <td>42.0</td>\n",
       "      <td>42.0</td>\n",
       "      <td>21.0</td>\n",
       "      <td>42.0</td>\n",
       "      <td>1.0</td>\n",
       "      <td>NaN</td>\n",
       "      <td>NaN</td>\n",
       "      <td>...</td>\n",
       "      <td>NaN</td>\n",
       "      <td>NaN</td>\n",
       "      <td>10.300281</td>\n",
       "      <td>5.456876</td>\n",
       "      <td>19.027213</td>\n",
       "      <td>1.0</td>\n",
       "      <td>NaN</td>\n",
       "      <td>NaN</td>\n",
       "      <td>NaN</td>\n",
       "      <td>NaN</td>\n",
       "    </tr>\n",
       "    <tr>\n",
       "      <th>2</th>\n",
       "      <td>3</td>\n",
       "      <td>0.0</td>\n",
       "      <td>1.0</td>\n",
       "      <td>59.0</td>\n",
       "      <td>59.0</td>\n",
       "      <td>17.0</td>\n",
       "      <td>59.0</td>\n",
       "      <td>1.0</td>\n",
       "      <td>NaN</td>\n",
       "      <td>NaN</td>\n",
       "      <td>...</td>\n",
       "      <td>NaN</td>\n",
       "      <td>NaN</td>\n",
       "      <td>8.537507</td>\n",
       "      <td>4.502165</td>\n",
       "      <td>15.705681</td>\n",
       "      <td>1.0</td>\n",
       "      <td>NaN</td>\n",
       "      <td>NaN</td>\n",
       "      <td>NaN</td>\n",
       "      <td>NaN</td>\n",
       "    </tr>\n",
       "    <tr>\n",
       "      <th>3</th>\n",
       "      <td>4</td>\n",
       "      <td>0.0</td>\n",
       "      <td>1.0</td>\n",
       "      <td>75.0</td>\n",
       "      <td>75.0</td>\n",
       "      <td>16.0</td>\n",
       "      <td>75.0</td>\n",
       "      <td>1.0</td>\n",
       "      <td>NaN</td>\n",
       "      <td>NaN</td>\n",
       "      <td>...</td>\n",
       "      <td>NaN</td>\n",
       "      <td>NaN</td>\n",
       "      <td>8.089496</td>\n",
       "      <td>4.257253</td>\n",
       "      <td>14.854223</td>\n",
       "      <td>1.0</td>\n",
       "      <td>NaN</td>\n",
       "      <td>NaN</td>\n",
       "      <td>NaN</td>\n",
       "      <td>NaN</td>\n",
       "    </tr>\n",
       "    <tr>\n",
       "      <th>4</th>\n",
       "      <td>5</td>\n",
       "      <td>0.0</td>\n",
       "      <td>1.0</td>\n",
       "      <td>86.0</td>\n",
       "      <td>86.0</td>\n",
       "      <td>11.0</td>\n",
       "      <td>86.0</td>\n",
       "      <td>1.0</td>\n",
       "      <td>NaN</td>\n",
       "      <td>NaN</td>\n",
       "      <td>...</td>\n",
       "      <td>NaN</td>\n",
       "      <td>NaN</td>\n",
       "      <td>5.804429</td>\n",
       "      <td>2.993399</td>\n",
       "      <td>10.466175</td>\n",
       "      <td>1.0</td>\n",
       "      <td>NaN</td>\n",
       "      <td>NaN</td>\n",
       "      <td>NaN</td>\n",
       "      <td>NaN</td>\n",
       "    </tr>\n",
       "  </tbody>\n",
       "</table>\n",
       "<p>5 rows × 35 columns</p>\n",
       "</div>"
      ],
      "text/plain": [
       "   Episode #  Training Iter  In Heatup  ER #Transitions  ER #Episodes  \\\n",
       "0          1            0.0        1.0             21.0          21.0   \n",
       "1          2            0.0        1.0             42.0          42.0   \n",
       "2          3            0.0        1.0             59.0          59.0   \n",
       "3          4            0.0        1.0             75.0          75.0   \n",
       "4          5            0.0        1.0             86.0          86.0   \n",
       "\n",
       "   Episode Length  Total steps  Epsilon  Shaped Training Reward  \\\n",
       "0            21.0         21.0      1.0                     NaN   \n",
       "1            21.0         42.0      1.0                     NaN   \n",
       "2            17.0         59.0      1.0                     NaN   \n",
       "3            16.0         75.0      1.0                     NaN   \n",
       "4            11.0         86.0      1.0                     NaN   \n",
       "\n",
       "   Training Reward  ...  Grads (unclipped)/Max  Grads (unclipped)/Min  \\\n",
       "0              NaN  ...                    NaN                    NaN   \n",
       "1              NaN  ...                    NaN                    NaN   \n",
       "2              NaN  ...                    NaN                    NaN   \n",
       "3              NaN  ...                    NaN                    NaN   \n",
       "4              NaN  ...                    NaN                    NaN   \n",
       "\n",
       "   Discounted Return/Mean  Discounted Return/Stdev  Discounted Return/Max  \\\n",
       "0               10.300281                 5.456876              19.027213   \n",
       "1               10.300281                 5.456876              19.027213   \n",
       "2                8.537507                 4.502165              15.705681   \n",
       "3                8.089496                 4.257253              14.854223   \n",
       "4                5.804429                 2.993399              10.466175   \n",
       "\n",
       "   Discounted Return/Min  Q/Mean  Q/Stdev  Q/Max  Q/Min  \n",
       "0                    1.0     NaN      NaN    NaN    NaN  \n",
       "1                    1.0     NaN      NaN    NaN    NaN  \n",
       "2                    1.0     NaN      NaN    NaN    NaN  \n",
       "3                    1.0     NaN      NaN    NaN    NaN  \n",
       "4                    1.0     NaN      NaN    NaN    NaN  \n",
       "\n",
       "[5 rows x 35 columns]"
      ]
     },
     "execution_count": 57,
     "metadata": {},
     "output_type": "execute_result"
    }
   ],
   "source": [
    "df.head(5)"
   ]
  },
  {
   "cell_type": "code",
   "execution_count": 58,
   "metadata": {},
   "outputs": [
    {
     "data": {
      "text/plain": [
       "205"
      ]
     },
     "execution_count": 58,
     "metadata": {},
     "output_type": "execute_result"
    }
   ],
   "source": [
    "df[\"Episode #\"].max()"
   ]
  },
  {
   "cell_type": "code",
   "execution_count": 59,
   "metadata": {},
   "outputs": [
    {
     "data": {
      "image/png": "[encoded data removed]",
      "text/plain": [
       "<Figure size 864x360 with 1 Axes>"
      ]
     },
     "metadata": {},
     "output_type": "display_data"
    }
   ],
   "source": [
    "df_2 = df.dropna(subset=['Training Reward'])\n",
    "x_axis = 'Episode #'\n",
    "y_axis = 'Training Reward'\n",
    "\n",
    "plt = df_2.plot(x=x_axis,y=y_axis, figsize=(12,5), legend=True, style='b-')\n",
    "plt.set_ylabel(y_axis);\n",
    "plt.set_xlabel(x_axis);"
   ]
  },
  {
   "cell_type": "markdown",
   "metadata": {},
   "source": [
    "### Visualize the rendered gifs\n",
    "The latest gif file of the training is displayed. You can replace the gif_index below to visualize other files generated."
   ]
  },
  {
   "cell_type": "code",
   "execution_count": 60,
   "metadata": {},
   "outputs": [
    {
     "name": "stdout",
     "output_type": "stream",
     "text": [
      "Temporary directory: /tmp/rl-cart-pole-2020-06-29-22-03-16-475\n"
     ]
    }
   ],
   "source": [
    "print(\"Temporary directory: {}\".format(tmp_dir))"
   ]
  },
  {
   "cell_type": "code",
   "execution_count": 61,
   "metadata": {
    "scrolled": true
   },
   "outputs": [
    {
     "name": "stdout",
     "output_type": "stream",
     "text": [
      "Waiting for s3://sagemaker-us-east-1-912668378040/rl-cart-pole-2020-06-29-22-03-16-475/output/intermediate/gifs...\n",
      "Downloading rl-cart-pole-2020-06-29-22-03-16-475/output/intermediate/gifs/2020-06-29-22-06-47_episode-58_score-10.0.gif\n",
      "Downloading rl-cart-pole-2020-06-29-22-03-16-475/output/intermediate/gifs/2020-06-29-22-06-55_episode-102_score-29.0.gif\n",
      "Downloading rl-cart-pole-2020-06-29-22-03-16-475/output/intermediate/gifs/2020-06-29-22-06-58_episode-113_score-69.0.gif\n",
      "Downloading rl-cart-pole-2020-06-29-22-03-16-475/output/intermediate/gifs/2020-06-29-22-07-01_episode-124_score-179.0.gif\n",
      "Downloading rl-cart-pole-2020-06-29-22-03-16-475/output/intermediate/gifs/2020-06-29-22-07-14_episode-157_score-193.0.gif\n",
      "Downloading rl-cart-pole-2020-06-29-22-03-16-475/output/intermediate/gifs/2020-06-29-22-07-39_episode-190_score-200.0.gif\n",
      "Copied gifs files to /tmp/rl-cart-pole-2020-06-29-22-03-16-475\n",
      "GIFs found:\n",
      "2020-06-29-22-06-47_episode-58_score-10.0.gif\n",
      "2020-06-29-22-06-55_episode-102_score-29.0.gif\n",
      "2020-06-29-22-06-58_episode-113_score-69.0.gif\n",
      "2020-06-29-22-07-01_episode-124_score-179.0.gif\n",
      "2020-06-29-22-07-14_episode-157_score-193.0.gif\n",
      "2020-06-29-22-07-39_episode-190_score-200.0.gif\n",
      "Selected GIF: 2020-06-29-22-07-39_episode-190_score-200.0.gif\n"
     ]
    },
    {
     "data": {
      "text/html": [
       "<img src=\"./src/tmp/2020-06-29-22-07-39_episode-190_score-200.0.gif.gif\">"
      ],
      "text/plain": [
       "<IPython.core.display.HTML object>"
      ]
     },
     "execution_count": 61,
     "metadata": {},
     "output_type": "execute_result"
    }
   ],
   "source": [
    "key = os.path.join(intermediate_folder_key, 'gifs')\n",
    "wait_for_s3_object(s3_bucket, key, tmp_dir, training_job_name=job_name)    \n",
    "print(\"Copied gifs files to {}\".format(tmp_dir))\n",
    "\n",
    "glob_pattern = os.path.join(\"{}/*.gif\".format(tmp_dir))\n",
    "gifs = [file for file in glob.iglob(glob_pattern, recursive=True)]\n",
    "extract_episode = lambda string: int(re.search('.*episode-(\\d*)_.*', string, re.IGNORECASE).group(1))\n",
    "gifs.sort(key=extract_episode)\n",
    "print(\"GIFs found:\\n{}\".format(\"\\n\".join([os.path.basename(gif) for gif in gifs])))    \n",
    "\n",
    "# visualize a specific episode\n",
    "gif_index = -1 # since we want last gif\n",
    "gif_filepath = gifs[gif_index]\n",
    "gif_filename = os.path.basename(gif_filepath)\n",
    "print(\"Selected GIF: {}\".format(gif_filename))\n",
    "os.system(\"mkdir -p ./src/tmp/ && cp {} ./src/tmp/{}.gif\".format(gif_filepath, gif_filename))\n",
    "HTML('<img src=\"./src/tmp/{}.gif\">'.format(gif_filename))"
   ]
  },
  {
   "cell_type": "markdown",
   "metadata": {},
   "source": [
    "## Evaluation of RL models\n",
    "\n",
    "We use the last checkpointed model to run evaluation for the RL Agent. \n",
    "\n",
    "### Load checkpointed model\n",
    "\n",
    "Checkpointed data from the previously trained models will be passed on for evaluation / inference in the checkpoint channel. In local mode, we can simply use the local directory, whereas in the SageMaker mode, it needs to be moved to S3 first."
   ]
  },
  {
   "cell_type": "code",
   "execution_count": 62,
   "metadata": {
    "scrolled": true
   },
   "outputs": [
    {
     "name": "stdout",
     "output_type": "stream",
     "text": [
      "Waiting for s3://sagemaker-us-east-1-912668378040/rl-cart-pole-2020-06-29-22-03-16-475/output/output.tar.gz...\n",
      "Downloading rl-cart-pole-2020-06-29-22-03-16-475/output/output.tar.gz\n",
      "Checkpoint directory /tmp/rl-cart-pole-2020-06-29-22-03-16-475/checkpoint\n"
     ]
    }
   ],
   "source": [
    "wait_for_s3_object(s3_bucket, output_tar_key, tmp_dir, training_job_name=job_name)  \n",
    "\n",
    "if not os.path.isfile(\"{}/output.tar.gz\".format(tmp_dir)):\n",
    "    raise FileNotFoundError(\"File output.tar.gz not found\")\n",
    "os.system(\"tar -xvzf {}/output.tar.gz -C {}\".format(tmp_dir, tmp_dir))\n",
    "\n",
    "if local_mode:\n",
    "    checkpoint_dir = \"{}/data/checkpoint\".format(tmp_dir)\n",
    "else:\n",
    "    checkpoint_dir = \"{}/checkpoint\".format(tmp_dir)\n",
    "\n",
    "print(\"Checkpoint directory {}\".format(checkpoint_dir))"
   ]
  },
  {
   "cell_type": "code",
   "execution_count": 63,
   "metadata": {},
   "outputs": [
    {
     "name": "stdout",
     "output_type": "stream",
     "text": [
      "S3 checkpoint file path: s3://sagemaker-us-east-1-912668378040/rl-cart-pole-2020-06-29-22-03-16-475/checkpoint/\n"
     ]
    }
   ],
   "source": [
    "if local_mode:\n",
    "    checkpoint_path = 'file://{}'.format(checkpoint_dir)\n",
    "    print(\"Local checkpoint file path: {}\".format(checkpoint_path))\n",
    "else:\n",
    "    checkpoint_path = \"s3://{}/{}/checkpoint/\".format(s3_bucket, job_name)\n",
    "    if not os.listdir(checkpoint_dir):\n",
    "        raise FileNotFoundError(\"Checkpoint files not found under the path\")\n",
    "    os.system(\"aws s3 cp --recursive {} {}\".format(checkpoint_dir, checkpoint_path))\n",
    "    print(\"S3 checkpoint file path: {}\".format(checkpoint_path))"
   ]
  },
  {
   "cell_type": "markdown",
   "metadata": {},
   "source": [
    "### Run the evaluation step\n",
    "\n",
    "Use the checkpointed model to run the evaluation step. "
   ]
  },
  {
   "cell_type": "code",
   "execution_count": 64,
   "metadata": {},
   "outputs": [
    {
     "name": "stdout",
     "output_type": "stream",
     "text": [
      "2020-06-29 22:10:37 Starting - Starting the training job...\n",
      "2020-06-29 22:10:42 Starting - Launching requested ML instances.........\n",
      "2020-06-29 22:12:27 Starting - Preparing the instances for training......\n",
      "2020-06-29 22:13:26 Downloading - Downloading input data...\n",
      "2020-06-29 22:14:08 Training - Training image download completed. Training in progress..\u001b[34mbash: cannot set terminal process group (-1): Inappropriate ioctl for device\u001b[0m\n",
      "\u001b[34mbash: no job control in this shell\u001b[0m\n",
      "\u001b[34m2020-06-29 22:14:08,890 sagemaker-containers INFO     Imported framework sagemaker_mxnet_container.training\u001b[0m\n",
      "\u001b[34m2020-06-29 22:14:08,893 sagemaker-containers INFO     No GPUs detected (normal if no gpus installed)\u001b[0m\n",
      "\u001b[34m2020-06-29 22:14:08,908 sagemaker_mxnet_container.training INFO     MXNet training environment: {'SM_NUM_GPUS': '0', 'SM_CHANNELS': '[\"checkpoint\"]', 'SM_RESOURCE_CONFIG': '{\"current_host\":\"algo-1\",\"hosts\":[\"algo-1\"],\"network_interface_name\":\"eth0\"}', 'SM_NUM_CPUS': '16', 'SM_LOG_LEVEL': '20', 'SM_MODEL_DIR': '/opt/ml/model', 'SM_INPUT_DATA_CONFIG': '{\"checkpoint\":{\"RecordWrapperType\":\"None\",\"S3DistributionType\":\"FullyReplicated\",\"TrainingInputMode\":\"File\"}}', 'SM_OUTPUT_DIR': '/opt/ml/output', 'SM_NETWORK_INTERFACE_NAME': 'eth0', 'SM_HP_RLCOACH_PRESET': 'preset-cartpole-dqn', 'SM_HOSTS': '[\"algo-1\"]', 'SM_HP_EVALUATE_STEPS': '2000', 'SM_FRAMEWORK_PARAMS': '{\"sagemaker_estimator\":\"RLEstimator\"}', 'SM_OUTPUT_INTERMEDIATE_DIR': '/opt/ml/output/intermediate', 'SM_INPUT_CONFIG_DIR': '/opt/ml/input/config', 'SM_OUTPUT_DATA_DIR': '/opt/ml/output/data', 'SM_TRAINING_ENV': '{\"additional_framework_parameters\":{\"sagemaker_estimator\":\"RLEstimator\"},\"channel_input_dirs\":{\"checkpoint\":\"/opt/ml/input/data/checkpoint\"},\"current_host\":\"algo-1\",\"framework_module\":\"sagemaker_mxnet_container.training:main\",\"hosts\":[\"algo-1\"],\"hyperparameters\":{\"RLCOACH_PRESET\":\"preset-cartpole-dqn\",\"evaluate_steps\":2000},\"input_config_dir\":\"/opt/ml/input/config\",\"input_data_config\":{\"checkpoint\":{\"RecordWrapperType\":\"None\",\"S3DistributionType\":\"FullyReplicated\",\"TrainingInputMode\":\"File\"}},\"input_dir\":\"/opt/ml/input\",\"job_name\":\"sagemaker-rl-mxnet-2020-06-29-22-10-36-635\",\"log_level\":20,\"model_dir\":\"/opt/ml/model\",\"module_dir\":\"s3://sagemaker-us-east-1-912668378040/sagemaker-rl-mxnet-2020-06-29-22-10-36-635/source/sourcedir.tar.gz\",\"module_name\":\"evaluate-coach\",\"network_interface_name\":\"eth0\",\"num_cpus\":16,\"num_gpus\":0,\"output_data_dir\":\"/opt/ml/output/data\",\"output_dir\":\"/opt/ml/output\",\"output_intermediate_dir\":\"/opt/ml/output/intermediate\",\"resource_config\":{\"current_host\":\"algo-1\",\"hosts\":[\"algo-1\"],\"network_interface_name\":\"eth0\"},\"user_entry_point\":\"evaluate-coach.py\"}', 'SM_HPS': '{\"RLCOACH_PRESET\":\"preset-cartpole-dqn\",\"evaluate_steps\":2000}', 'SM_INPUT_DIR': '/opt/ml/input', 'SM_USER_ARGS': '[\"--RLCOACH_PRESET\",\"preset-cartpole-dqn\",\"--evaluate_steps\",\"2000\"]', 'SM_USER_ENTRY_POINT': 'evaluate-coach.py', 'SM_CHANNEL_CHECKPOINT': '/opt/ml/input/data/checkpoint', 'SM_MODULE_NAME': 'evaluate-coach', 'SM_FRAMEWORK_MODULE': 'sagemaker_mxnet_container.training:main', 'SM_CURRENT_HOST': 'algo-1', 'SM_MODULE_DIR': 's3://sagemaker-us-east-1-912668378040/sagemaker-rl-mxnet-2020-06-29-22-10-36-635/source/sourcedir.tar.gz'}\u001b[0m\n",
      "\n",
      "2020-06-29 22:14:38 Uploading - Uploading generated training model\u001b[34m2020-06-29 22:14:22,943 sagemaker-containers INFO     Module evaluate-coach does not provide a setup.py. \u001b[0m\n",
      "\u001b[34mGenerating setup.py\u001b[0m\n",
      "\u001b[34m2020-06-29 22:14:22,943 sagemaker-containers INFO     Generating setup.cfg\u001b[0m\n",
      "\u001b[34m2020-06-29 22:14:22,943 sagemaker-containers INFO     Generating MANIFEST.in\u001b[0m\n",
      "\u001b[34m2020-06-29 22:14:22,943 sagemaker-containers INFO     Installing module with the following command:\u001b[0m\n",
      "\u001b[34m/usr/bin/python -m pip install -U . \u001b[0m\n",
      "\u001b[34mProcessing /opt/ml/code\u001b[0m\n",
      "\u001b[34mBuilding wheels for collected packages: evaluate-coach\n",
      "  Running setup.py bdist_wheel for evaluate-coach: started\u001b[0m\n",
      "\u001b[34m  Running setup.py bdist_wheel for evaluate-coach: finished with status 'done'\n",
      "  Stored in directory: /tmp/pip-ephem-wheel-cache-xg9p0j69/wheels/35/24/16/37574d11bf9bde50616c67372a334f94fa8356bc7164af8ca3\u001b[0m\n",
      "\u001b[34mSuccessfully built evaluate-coach\u001b[0m\n",
      "\u001b[34mInstalling collected packages: evaluate-coach\u001b[0m\n",
      "\u001b[34mSuccessfully installed evaluate-coach-1.0.0\u001b[0m\n",
      "\u001b[34mYou are using pip version 18.1, however version 20.2b1 is available.\u001b[0m\n",
      "\u001b[34mYou should consider upgrading via the 'pip install --upgrade pip' command.\u001b[0m\n",
      "\u001b[34m2020-06-29 22:14:24,646 sagemaker-containers INFO     No GPUs detected (normal if no gpus installed)\u001b[0m\n",
      "\u001b[34m2020-06-29 22:14:24,660 sagemaker-containers INFO     Invoking user script\n",
      "\u001b[0m\n",
      "\u001b[34mTraining Env:\n",
      "\u001b[0m\n",
      "\u001b[34m{\n",
      "    \"input_data_config\": {\n",
      "        \"checkpoint\": {\n",
      "            \"TrainingInputMode\": \"File\",\n",
      "            \"S3DistributionType\": \"FullyReplicated\",\n",
      "            \"RecordWrapperType\": \"None\"\n",
      "        }\n",
      "    },\n",
      "    \"output_dir\": \"/opt/ml/output\",\n",
      "    \"module_name\": \"evaluate-coach\",\n",
      "    \"user_entry_point\": \"evaluate-coach.py\",\n",
      "    \"input_config_dir\": \"/opt/ml/input/config\",\n",
      "    \"module_dir\": \"s3://sagemaker-us-east-1-912668378040/sagemaker-rl-mxnet-2020-06-29-22-10-36-635/source/sourcedir.tar.gz\",\n",
      "    \"network_interface_name\": \"eth0\",\n",
      "    \"input_dir\": \"/opt/ml/input\",\n",
      "    \"hosts\": [\n",
      "        \"algo-1\"\n",
      "    ],\n",
      "    \"job_name\": \"sagemaker-rl-mxnet-2020-06-29-22-10-36-635\",\n",
      "    \"num_gpus\": 0,\n",
      "    \"current_host\": \"algo-1\",\n",
      "    \"additional_framework_parameters\": {\n",
      "        \"sagemaker_estimator\": \"RLEstimator\"\n",
      "    },\n",
      "    \"output_data_dir\": \"/opt/ml/output/data\",\n",
      "    \"resource_config\": {\n",
      "        \"hosts\": [\n",
      "            \"algo-1\"\n",
      "        ],\n",
      "        \"current_host\": \"algo-1\",\n",
      "        \"network_interface_name\": \"eth0\"\n",
      "    },\n",
      "    \"channel_input_dirs\": {\n",
      "        \"checkpoint\": \"/opt/ml/input/data/checkpoint\"\n",
      "    },\n",
      "    \"num_cpus\": 16,\n",
      "    \"hyperparameters\": {\n",
      "        \"evaluate_steps\": 2000,\n",
      "        \"RLCOACH_PRESET\": \"preset-cartpole-dqn\"\n",
      "    },\n",
      "    \"output_intermediate_dir\": \"/opt/ml/output/intermediate\",\n",
      "    \"framework_module\": \"sagemaker_mxnet_container.training:main\",\n",
      "    \"log_level\": 20,\n",
      "    \"model_dir\": \"/opt/ml/model\"\u001b[0m\n",
      "\u001b[34m}\n",
      "\u001b[0m\n",
      "\u001b[34mEnvironment variables:\n",
      "\u001b[0m\n",
      "\u001b[34mSM_NUM_GPUS=0\u001b[0m\n",
      "\u001b[34mSM_CHANNELS=[\"checkpoint\"]\u001b[0m\n",
      "\u001b[34mSM_CHANNEL_CHECKPOINT=/opt/ml/input/data/checkpoint\u001b[0m\n",
      "\u001b[34mSM_NUM_CPUS=16\u001b[0m\n",
      "\u001b[34mSM_LOG_LEVEL=20\u001b[0m\n",
      "\u001b[34mSM_INPUT_DATA_CONFIG={\"checkpoint\":{\"RecordWrapperType\":\"None\",\"S3DistributionType\":\"FullyReplicated\",\"TrainingInputMode\":\"File\"}}\u001b[0m\n",
      "\u001b[34mSM_MODEL_DIR=/opt/ml/model\u001b[0m\n",
      "\u001b[34mSM_OUTPUT_DIR=/opt/ml/output\u001b[0m\n",
      "\u001b[34mSM_NETWORK_INTERFACE_NAME=eth0\u001b[0m\n",
      "\u001b[34mSM_HP_RLCOACH_PRESET=preset-cartpole-dqn\u001b[0m\n",
      "\u001b[34mPYTHONPATH=/usr/local/bin:/usr/lib/python35.zip:/usr/lib/python3.5:/usr/lib/python3.5/plat-x86_64-linux-gnu:/usr/lib/python3.5/lib-dynload:/usr/local/lib/python3.5/dist-packages:/usr/lib/python3/dist-packages\u001b[0m\n",
      "\u001b[34mSM_HOSTS=[\"algo-1\"]\u001b[0m\n",
      "\u001b[34mSM_HP_EVALUATE_STEPS=2000\u001b[0m\n",
      "\u001b[34mSM_FRAMEWORK_PARAMS={\"sagemaker_estimator\":\"RLEstimator\"}\u001b[0m\n",
      "\u001b[34mSM_OUTPUT_INTERMEDIATE_DIR=/opt/ml/output/intermediate\u001b[0m\n",
      "\u001b[34mSM_INPUT_CONFIG_DIR=/opt/ml/input/config\u001b[0m\n",
      "\u001b[34mSM_OUTPUT_DATA_DIR=/opt/ml/output/data\u001b[0m\n",
      "\u001b[34mSM_TRAINING_ENV={\"additional_framework_parameters\":{\"sagemaker_estimator\":\"RLEstimator\"},\"channel_input_dirs\":{\"checkpoint\":\"/opt/ml/input/data/checkpoint\"},\"current_host\":\"algo-1\",\"framework_module\":\"sagemaker_mxnet_container.training:main\",\"hosts\":[\"algo-1\"],\"hyperparameters\":{\"RLCOACH_PRESET\":\"preset-cartpole-dqn\",\"evaluate_steps\":2000},\"input_config_dir\":\"/opt/ml/input/config\",\"input_data_config\":{\"checkpoint\":{\"RecordWrapperType\":\"None\",\"S3DistributionType\":\"FullyReplicated\",\"TrainingInputMode\":\"File\"}},\"input_dir\":\"/opt/ml/input\",\"job_name\":\"sagemaker-rl-mxnet-2020-06-29-22-10-36-635\",\"log_level\":20,\"model_dir\":\"/opt/ml/model\",\"module_dir\":\"s3://sagemaker-us-east-1-912668378040/sagemaker-rl-mxnet-2020-06-29-22-10-36-635/source/sourcedir.tar.gz\",\"module_name\":\"evaluate-coach\",\"network_interface_name\":\"eth0\",\"num_cpus\":16,\"num_gpus\":0,\"output_data_dir\":\"/opt/ml/output/data\",\"output_dir\":\"/opt/ml/output\",\"output_intermediate_dir\":\"/opt/ml/output/intermediate\",\"resource_config\":{\"current_host\":\"algo-1\",\"hosts\":[\"algo-1\"],\"network_interface_name\":\"eth0\"},\"user_entry_point\":\"evaluate-coach.py\"}\u001b[0m\n",
      "\u001b[34mSM_HPS={\"RLCOACH_PRESET\":\"preset-cartpole-dqn\",\"evaluate_steps\":2000}\u001b[0m\n",
      "\u001b[34mSM_INPUT_DIR=/opt/ml/input\u001b[0m\n",
      "\u001b[34mSM_USER_ARGS=[\"--RLCOACH_PRESET\",\"preset-cartpole-dqn\",\"--evaluate_steps\",\"2000\"]\u001b[0m\n",
      "\u001b[34mSM_USER_ENTRY_POINT=evaluate-coach.py\u001b[0m\n",
      "\u001b[34mSM_RESOURCE_CONFIG={\"current_host\":\"algo-1\",\"hosts\":[\"algo-1\"],\"network_interface_name\":\"eth0\"}\u001b[0m\n",
      "\u001b[34mSM_MODULE_NAME=evaluate-coach\u001b[0m\n",
      "\u001b[34mSM_FRAMEWORK_MODULE=sagemaker_mxnet_container.training:main\u001b[0m\n",
      "\u001b[34mSM_CURRENT_HOST=algo-1\u001b[0m\n",
      "\u001b[34mSM_MODULE_DIR=s3://sagemaker-us-east-1-912668378040/sagemaker-rl-mxnet-2020-06-29-22-10-36-635/source/sourcedir.tar.gz\n",
      "\u001b[0m\n",
      "\u001b[34mInvoking script with the following command:\n",
      "\u001b[0m\n",
      "\u001b[34m/usr/bin/python -m evaluate-coach --RLCOACH_PRESET preset-cartpole-dqn --evaluate_steps 2000\n",
      "\n",
      "\u001b[0m\n",
      "\u001b[34m#033[93mWarning: failed to import the following packages - tensorflow#033[0m\u001b[0m\n",
      "\u001b[34mLoading preset preset-cartpole-dqn from /opt/ml/code\u001b[0m\n",
      "\u001b[34m## Creating graph - name: BasicRLGraphManager\u001b[0m\n",
      "\u001b[34m/usr/local/lib/python3.5/dist-packages/gym/envs/registration.py:14: PkgResourcesDeprecationWarning: Parameters to load are deprecated.  Call .resolve and .require separately.\n",
      "  result = entry_point.load(False)\u001b[0m\n",
      "\u001b[34m## Creating agent - name: agent\u001b[0m\n",
      "\u001b[34mRequested devices [gpu(0)] not available. Default to CPU context.\u001b[0m\n",
      "\u001b[34mRequested devices [gpu(0)] not available. Default to CPU context.\u001b[0m\n",
      "\u001b[34m## Loading checkpoint: /opt/ml/input/data/checkpoint/9_Step-9942.ckpt\u001b[0m\n",
      "\u001b[34m## agent: Starting evaluation phase\u001b[0m\n",
      "\u001b[34mTesting> Name=main_level/agent, Worker=0, Episode=1, Total reward=200.0, Exploration=0.05, Steps=200, Training iteration=0\u001b[0m\n",
      "\u001b[34mTesting> Name=main_level/agent, Worker=0, Episode=2, Total reward=200.0, Exploration=0.05, Steps=400, Training iteration=0\u001b[0m\n",
      "\u001b[34mTesting> Name=main_level/agent, Worker=0, Episode=3, Total reward=200.0, Exploration=0.05, Steps=600, Training iteration=0\u001b[0m\n",
      "\u001b[34mTesting> Name=main_level/agent, Worker=0, Episode=4, Total reward=200.0, Exploration=0.05, Steps=800, Training iteration=0\u001b[0m\n",
      "\u001b[34mTesting> Name=main_level/agent, Worker=0, Episode=5, Total reward=200.0, Exploration=0.05, Steps=1000, Training iteration=0\u001b[0m\n",
      "\u001b[34mTesting> Name=main_level/agent, Worker=0, Episode=6, Total reward=200.0, Exploration=0.05, Steps=1200, Training iteration=0\u001b[0m\n",
      "\u001b[34mTesting> Name=main_level/agent, Worker=0, Episode=7, Total reward=200.0, Exploration=0.05, Steps=1400, Training iteration=0\u001b[0m\n",
      "\u001b[34mTesting> Name=main_level/agent, Worker=0, Episode=8, Total reward=200.0, Exploration=0.05, Steps=1600, Training iteration=0\u001b[0m\n",
      "\u001b[34mTesting> Name=main_level/agent, Worker=0, Episode=9, Total reward=200.0, Exploration=0.05, Steps=1800, Training iteration=0\u001b[0m\n",
      "\u001b[34mTesting> Name=main_level/agent, Worker=0, Episode=10, Total reward=200.0, Exploration=0.05, Steps=2000, Training iteration=0\u001b[0m\n",
      "\u001b[34m## agent: Finished evaluation phase. Success rate = 1.0, Avg Total Reward = 200.0\u001b[0m\n",
      "\u001b[34m2020-06-29 22:14:36,959 sagemaker-containers INFO     Reporting training SUCCESS\u001b[0m\n",
      "\n",
      "2020-06-29 22:14:41 Completed - Training job completed\n",
      "Training seconds: 75\n",
      "Billable seconds: 75\n"
     ]
    }
   ],
   "source": [
    "estimator_eval = RLEstimator(role=role,\n",
    "                             source_dir='src/',\n",
    "                             dependencies=[\"common/sagemaker_rl\"],\n",
    "                             toolkit=RLToolkit.COACH,\n",
    "                             toolkit_version='0.11.0',\n",
    "                             framework=RLFramework.MXNET,\n",
    "                             entry_point=\"evaluate-coach.py\",\n",
    "                             train_instance_count=1,\n",
    "                             train_instance_type=instance_type,\n",
    "                             hyperparameters = {\n",
    "                                 \"RLCOACH_PRESET\": \"preset-cartpole-dqn\",\n",
    "                                 \"evaluate_steps\": 2000\n",
    "                             }\n",
    "                            )\n",
    "\n",
    "estimator_eval.fit({'checkpoint': checkpoint_path})"
   ]
  },
  {
   "cell_type": "markdown",
   "metadata": {},
   "source": [
    "### Visualize the output \n",
    "\n",
    "Optionally, you can run the steps defined earlier to visualize the output "
   ]
  },
  {
   "cell_type": "markdown",
   "metadata": {},
   "source": [
    "# Model deployment"
   ]
  },
  {
   "cell_type": "markdown",
   "metadata": {},
   "source": [
    "Since we specified MXNet when configuring the RLEstimator, the MXNet deployment container will be used for hosting."
   ]
  },
  {
   "cell_type": "code",
   "execution_count": 65,
   "metadata": {},
   "outputs": [
    {
     "name": "stdout",
     "output_type": "stream",
     "text": [
      "-----------------!"
     ]
    }
   ],
   "source": [
    "predictor = estimator.deploy(initial_instance_count=1,\n",
    "                             instance_type=instance_type,\n",
    "                             entry_point='deploy-mxnet-coach.py')"
   ]
  },
  {
   "cell_type": "markdown",
   "metadata": {},
   "source": [
    "We can test the endpoint with 2 samples observations. Starting with the cart stationary in the center of the environment, but the pole to the right and falling. Since the environment vector was of the form `[cart_position, cart_velocity, pole_angle, pole_velocity]` and we used observation normalization in our preset, we choose an observation of `[0, 0, 2, 2]`. Since we're deploying a DQN model, our model returns the state-value functions."
   ]
  },
  {
   "cell_type": "code",
   "execution_count": 66,
   "metadata": {},
   "outputs": [],
   "source": [
    "action_names = [\"Left\", \"Right\"]"
   ]
  },
  {
   "cell_type": "code",
   "execution_count": 74,
   "metadata": {},
   "outputs": [
    {
     "name": "stdout",
     "output_type": "stream",
     "text": [
      "Right\n"
     ]
    }
   ],
   "source": [
    "#Q(s,a) as output of the network.\n",
    "values = predictor.predict(np.array([0., 0., 2., 2.]))[0][0]\n",
    "action_idx = np.argmax(values)\n",
    "print(action_names[action_idx])"
   ]
  },
  {
   "cell_type": "markdown",
   "metadata": {},
   "source": [
    "We see the policy decides to move the cart to the right (2nd value) with a higher probability to recover the situation. And similarly in the other direction."
   ]
  },
  {
   "cell_type": "code",
   "execution_count": 75,
   "metadata": {},
   "outputs": [
    {
     "name": "stdout",
     "output_type": "stream",
     "text": [
      "Left\n"
     ]
    }
   ],
   "source": [
    "values = predictor.predict(np.array([0., 0., -2., -2.]))[0][0]\n",
    "action = np.argmax(values)\n",
    "action_idx = np.argmax(values)\n",
    "print(action_names[action_idx])"
   ]
  },
  {
   "cell_type": "code",
   "execution_count": 76,
   "metadata": {},
   "outputs": [
    {
     "name": "stdout",
     "output_type": "stream",
     "text": [
      "Left\n"
     ]
    }
   ],
   "source": [
    "values = predictor.predict(np.array([0., 0., -10., -2.]))[0][0]\n",
    "action = np.argmax(values)\n",
    "action_idx = np.argmax(values)\n",
    "print(action_names[action_idx])"
   ]
  },
  {
   "cell_type": "code",
   "execution_count": 77,
   "metadata": {},
   "outputs": [
    {
     "name": "stdout",
     "output_type": "stream",
     "text": [
      "Right\n"
     ]
    }
   ],
   "source": [
    "values = predictor.predict(np.array([0., 0., 15., -2.]))[0][0]\n",
    "action = np.argmax(values)\n",
    "action_idx = np.argmax(values)\n",
    "print(action_names[action_idx])"
   ]
  },
  {
   "cell_type": "code",
   "execution_count": 78,
   "metadata": {},
   "outputs": [
    {
     "name": "stdout",
     "output_type": "stream",
     "text": [
      "[-860.9523315429688, -1227.0113525390625]\n",
      "Left\n"
     ]
    }
   ],
   "source": [
    "values = predictor.predict(np.array([0., 0., 15., -100.]))[0][0]\n",
    "action = np.argmax(values)\n",
    "action_idx = np.argmax(values)\n",
    "print(values)\n",
    "print(action_names[action_idx])"
   ]
  },
  {
   "cell_type": "markdown",
   "metadata": {},
   "source": [
    "### Clean up endpoint"
   ]
  },
  {
   "cell_type": "code",
   "execution_count": null,
   "metadata": {},
   "outputs": [],
   "source": [
    "predictor.delete_endpoint()"
   ]
  }
 ],
 "metadata": {
  "anaconda-cloud": {},
  "kernelspec": {
   "display_name": "conda_python3",
   "language": "python",
   "name": "conda_python3"
  },
  "language_info": {
   "codemirror_mode": {
    "name": "ipython",
    "version": 3
   },
   "file_extension": ".py",
   "mimetype": "text/x-python",
   "name": "python",
   "nbconvert_exporter": "python",
   "pygments_lexer": "ipython3",
   "version": "3.6.5"
  },
  "notice": "Copyright 2018 Amazon.com, Inc. or its affiliates. All Rights Reserved. Licensed under the Apache License, Version 2.0 (the \"License\"). You may not use this file except in compliance with the License. A copy of the License is located at http://aws.amazon.com/apache2.0/ or in the \"license\" file accompanying this file. This file is distributed on an \"AS IS\" BASIS, WITHOUT WARRANTIES OR CONDITIONS OF ANY KIND, either express or implied. See the License for the specific language governing permissions and limitations under the License."
 },
 "nbformat": 4,
 "nbformat_minor": 4
}
